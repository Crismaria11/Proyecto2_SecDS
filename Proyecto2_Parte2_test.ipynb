{
 "cells": [
  {
   "cell_type": "markdown",
   "id": "9295bd72",
   "metadata": {},
   "source": [
    "# Proyecto # 2\n",
    "Cristina Bautista - 161260\n",
    "\n",
    "Abril Palencia - 18198 "
   ]
  },
  {
   "cell_type": "code",
   "execution_count": 1,
   "id": "46ab2a8e",
   "metadata": {},
   "outputs": [],
   "source": [
    "import pandas as pd\n",
    "import numpy as np\n",
    "import matplotlib.pyplot as plt\n",
    "import seaborn as sns\n",
    "import re\n",
    "import random\n",
    "\n",
    "%matplotlib inline"
   ]
  },
  {
   "cell_type": "code",
   "execution_count": 2,
   "id": "c5e96599",
   "metadata": {},
   "outputs": [],
   "source": [
    "df = pd.read_csv('sample_test.csv')"
   ]
  },
  {
   "cell_type": "code",
   "execution_count": 3,
   "id": "e977cf2e",
   "metadata": {},
   "outputs": [
    {
     "name": "stdout",
     "output_type": "stream",
     "text": [
      "<class 'pandas.core.frame.DataFrame'>\n",
      "RangeIndex: 1000000 entries, 0 to 999999\n",
      "Data columns (total 20 columns):\n",
      " #   Column                                 Non-Null Count    Dtype  \n",
      "---  ------                                 --------------    -----  \n",
      " 0   Unnamed: 0                             1000000 non-null  int64  \n",
      " 1   EngineVersion                          1000000 non-null  object \n",
      " 2   AppVersion                             1000000 non-null  object \n",
      " 3   CountryIdentifier                      1000000 non-null  int64  \n",
      " 4   LocaleEnglishNameIdentifier            1000000 non-null  int64  \n",
      " 5   Platform                               1000000 non-null  object \n",
      " 6   Processor                              1000000 non-null  object \n",
      " 7   OsVer                                  1000000 non-null  object \n",
      " 8   OsBuild                                1000000 non-null  int64  \n",
      " 9   OsSuite                                1000000 non-null  int64  \n",
      " 10  OsPlatformSubRelease                   1000000 non-null  object \n",
      " 11  SkuEdition                             1000000 non-null  object \n",
      " 12  IsProtected                            997072 non-null   float64\n",
      " 13  SMode                                  257512 non-null   float64\n",
      " 14  Firewall                               992641 non-null   float64\n",
      " 15  UacLuaenable                           999019 non-null   float64\n",
      " 16  Census_DeviceFamily                    1000000 non-null  object \n",
      " 17  Census_FirmwareManufacturerIdentifier  974789 non-null   float64\n",
      " 18  Census_FirmwareVersionIdentifier       977506 non-null   float64\n",
      " 19  Census_IsSecureBootEnabled             1000000 non-null  int64  \n",
      "dtypes: float64(6), int64(6), object(8)\n",
      "memory usage: 152.6+ MB\n"
     ]
    }
   ],
   "source": [
    "df.info()"
   ]
  },
  {
   "cell_type": "code",
   "execution_count": 4,
   "id": "340be5b2",
   "metadata": {},
   "outputs": [],
   "source": [
    "df = df.drop(labels=[\"Unnamed: 0\"], axis=1)"
   ]
  },
  {
   "cell_type": "code",
   "execution_count": 5,
   "id": "53a21617",
   "metadata": {},
   "outputs": [
    {
     "name": "stdout",
     "output_type": "stream",
     "text": [
      "<class 'pandas.core.frame.DataFrame'>\n",
      "RangeIndex: 1000000 entries, 0 to 999999\n",
      "Data columns (total 19 columns):\n",
      " #   Column                                 Non-Null Count    Dtype  \n",
      "---  ------                                 --------------    -----  \n",
      " 0   EngineVersion                          1000000 non-null  object \n",
      " 1   AppVersion                             1000000 non-null  object \n",
      " 2   CountryIdentifier                      1000000 non-null  int64  \n",
      " 3   LocaleEnglishNameIdentifier            1000000 non-null  int64  \n",
      " 4   Platform                               1000000 non-null  object \n",
      " 5   Processor                              1000000 non-null  object \n",
      " 6   OsVer                                  1000000 non-null  object \n",
      " 7   OsBuild                                1000000 non-null  int64  \n",
      " 8   OsSuite                                1000000 non-null  int64  \n",
      " 9   OsPlatformSubRelease                   1000000 non-null  object \n",
      " 10  SkuEdition                             1000000 non-null  object \n",
      " 11  IsProtected                            997072 non-null   float64\n",
      " 12  SMode                                  257512 non-null   float64\n",
      " 13  Firewall                               992641 non-null   float64\n",
      " 14  UacLuaenable                           999019 non-null   float64\n",
      " 15  Census_DeviceFamily                    1000000 non-null  object \n",
      " 16  Census_FirmwareManufacturerIdentifier  974789 non-null   float64\n",
      " 17  Census_FirmwareVersionIdentifier       977506 non-null   float64\n",
      " 18  Census_IsSecureBootEnabled             1000000 non-null  int64  \n",
      "dtypes: float64(6), int64(5), object(8)\n",
      "memory usage: 145.0+ MB\n"
     ]
    }
   ],
   "source": [
    "df.info()"
   ]
  },
  {
   "cell_type": "code",
   "execution_count": 6,
   "id": "5116588e",
   "metadata": {},
   "outputs": [
    {
     "data": {
      "text/plain": [
       "EngineVersion                                 0\n",
       "AppVersion                                    0\n",
       "CountryIdentifier                             0\n",
       "LocaleEnglishNameIdentifier                   0\n",
       "Platform                                      0\n",
       "Processor                                     0\n",
       "OsVer                                         0\n",
       "OsBuild                                       0\n",
       "OsSuite                                       0\n",
       "OsPlatformSubRelease                          0\n",
       "SkuEdition                                    0\n",
       "IsProtected                                2928\n",
       "SMode                                    742488\n",
       "Firewall                                   7359\n",
       "UacLuaenable                                981\n",
       "Census_DeviceFamily                           0\n",
       "Census_FirmwareManufacturerIdentifier     25211\n",
       "Census_FirmwareVersionIdentifier          22494\n",
       "Census_IsSecureBootEnabled                    0\n",
       "dtype: int64"
      ]
     },
     "execution_count": 6,
     "metadata": {},
     "output_type": "execute_result"
    }
   ],
   "source": [
    "df.isna().sum()"
   ]
  },
  {
   "cell_type": "code",
   "execution_count": 7,
   "id": "768c4b48",
   "metadata": {},
   "outputs": [
    {
     "data": {
      "text/plain": [
       "33105.0    9363\n",
       "33054.0    6675\n",
       "11778.0    6670\n",
       "33111.0    5994\n",
       "33108.0    5582\n",
       "           ... \n",
       "5477.0        1\n",
       "15713.0       1\n",
       "53175.0       1\n",
       "49866.0       1\n",
       "59301.0       1\n",
       "Name: Census_FirmwareVersionIdentifier, Length: 29659, dtype: int64"
      ]
     },
     "execution_count": 7,
     "metadata": {},
     "output_type": "execute_result"
    }
   ],
   "source": [
    "df.Census_FirmwareVersionIdentifier.value_counts()"
   ]
  },
  {
   "cell_type": "code",
   "execution_count": 8,
   "id": "48c9535f",
   "metadata": {},
   "outputs": [],
   "source": [
    "a = [33105.0, 33111.0, 33054.0, 33108.0, 11778.0]\n",
    "\n",
    "for i in df.Census_FirmwareVersionIdentifier:\n",
    "    if i not in a:\n",
    "        b = random.choice([33105.0, 33111.0, 33054.0, 33108.0, 11778.0])        \n",
    "        df.Census_FirmwareVersionIdentifier.replace({i:b}, inplace=True)"
   ]
  },
  {
   "cell_type": "code",
   "execution_count": 9,
   "id": "01b4f4a3",
   "metadata": {},
   "outputs": [
    {
     "name": "stdout",
     "output_type": "stream",
     "text": [
      "11778.0    231600\n",
      "33054.0    203351\n",
      "33108.0    196555\n",
      "33111.0    184969\n",
      "33105.0    183525\n",
      "Name: Census_FirmwareVersionIdentifier, dtype: int64\n"
     ]
    },
    {
     "data": {
      "text/plain": [
       "0"
      ]
     },
     "execution_count": 9,
     "metadata": {},
     "output_type": "execute_result"
    }
   ],
   "source": [
    "print(df.Census_FirmwareVersionIdentifier.value_counts())\n",
    "df.Census_FirmwareVersionIdentifier.isna().sum()"
   ]
  },
  {
   "cell_type": "code",
   "execution_count": null,
   "id": "764be280",
   "metadata": {},
   "outputs": [],
   "source": []
  },
  {
   "cell_type": "code",
   "execution_count": 10,
   "id": "6c75f6c1",
   "metadata": {},
   "outputs": [
    {
     "data": {
      "text/plain": [
       "1.0    941935\n",
       "0.0     55137\n",
       "Name: IsProtected, dtype: int64"
      ]
     },
     "execution_count": 10,
     "metadata": {},
     "output_type": "execute_result"
    }
   ],
   "source": [
    "df.IsProtected.value_counts()"
   ]
  },
  {
   "cell_type": "code",
   "execution_count": 11,
   "id": "43fcf10d",
   "metadata": {},
   "outputs": [],
   "source": [
    "a = [0.0, 1.0]\n",
    "\n",
    "for i in df.IsProtected:\n",
    "    if i not in a:\n",
    "        b = random.choice([0.0, 1.0])        \n",
    "        df.IsProtected.replace({i:b}, inplace=True)"
   ]
  },
  {
   "cell_type": "code",
   "execution_count": 12,
   "id": "67f9d81c",
   "metadata": {},
   "outputs": [
    {
     "name": "stdout",
     "output_type": "stream",
     "text": [
      "1.0    941935\n",
      "0.0     58065\n",
      "Name: IsProtected, dtype: int64\n"
     ]
    },
    {
     "data": {
      "text/plain": [
       "0"
      ]
     },
     "execution_count": 12,
     "metadata": {},
     "output_type": "execute_result"
    }
   ],
   "source": [
    "print(df.IsProtected.value_counts())\n",
    "df.IsProtected.isna().sum()"
   ]
  },
  {
   "cell_type": "code",
   "execution_count": null,
   "id": "23943138",
   "metadata": {},
   "outputs": [],
   "source": []
  },
  {
   "cell_type": "code",
   "execution_count": 13,
   "id": "e6208ad7",
   "metadata": {},
   "outputs": [
    {
     "data": {
      "text/plain": [
       "0.0    256686\n",
       "1.0       826\n",
       "Name: SMode, dtype: int64"
      ]
     },
     "execution_count": 13,
     "metadata": {},
     "output_type": "execute_result"
    }
   ],
   "source": [
    "df.SMode.value_counts()"
   ]
  },
  {
   "cell_type": "code",
   "execution_count": 14,
   "id": "2d1e77e1",
   "metadata": {},
   "outputs": [],
   "source": [
    "a = [0.0, 1.0]\n",
    "\n",
    "for i in df.SMode:\n",
    "    if i not in a:\n",
    "        b = random.choice([0.0, 1.0])        \n",
    "        df.SMode.replace({i:b}, inplace=True)"
   ]
  },
  {
   "cell_type": "code",
   "execution_count": 15,
   "id": "a69e22af",
   "metadata": {},
   "outputs": [
    {
     "name": "stdout",
     "output_type": "stream",
     "text": [
      "1.0    743314\n",
      "0.0    256686\n",
      "Name: SMode, dtype: int64\n"
     ]
    },
    {
     "data": {
      "text/plain": [
       "0"
      ]
     },
     "execution_count": 15,
     "metadata": {},
     "output_type": "execute_result"
    }
   ],
   "source": [
    "print(df.SMode.value_counts())\n",
    "df.SMode.isna().sum()"
   ]
  },
  {
   "cell_type": "code",
   "execution_count": null,
   "id": "5c59b88a",
   "metadata": {},
   "outputs": [],
   "source": []
  },
  {
   "cell_type": "code",
   "execution_count": 16,
   "id": "ce776e51",
   "metadata": {},
   "outputs": [
    {
     "data": {
      "text/plain": [
       "1.0    971453\n",
       "0.0     21188\n",
       "Name: Firewall, dtype: int64"
      ]
     },
     "execution_count": 16,
     "metadata": {},
     "output_type": "execute_result"
    }
   ],
   "source": [
    "df.Firewall.value_counts()"
   ]
  },
  {
   "cell_type": "code",
   "execution_count": 17,
   "id": "cb867207",
   "metadata": {},
   "outputs": [],
   "source": [
    "a = [0.0, 1.0]\n",
    "\n",
    "for i in df.Firewall:\n",
    "    if i not in a:\n",
    "        b = random.choice([0.0, 1.0])        \n",
    "        df.Firewall.replace({i:b}, inplace=True)"
   ]
  },
  {
   "cell_type": "code",
   "execution_count": 18,
   "id": "5e3ad56a",
   "metadata": {},
   "outputs": [
    {
     "name": "stdout",
     "output_type": "stream",
     "text": [
      "1.0    971453\n",
      "0.0     28547\n",
      "Name: Firewall, dtype: int64\n"
     ]
    },
    {
     "data": {
      "text/plain": [
       "0"
      ]
     },
     "execution_count": 18,
     "metadata": {},
     "output_type": "execute_result"
    }
   ],
   "source": [
    "print(df.Firewall.value_counts())\n",
    "df.Firewall.isna().sum()"
   ]
  },
  {
   "cell_type": "code",
   "execution_count": null,
   "id": "21b94705",
   "metadata": {},
   "outputs": [],
   "source": []
  },
  {
   "cell_type": "code",
   "execution_count": 19,
   "id": "ae859f13",
   "metadata": {},
   "outputs": [
    {
     "data": {
      "text/plain": [
       "1.0          991309\n",
       "0.0            7678\n",
       "48.0             24\n",
       "2.0               4\n",
       "3.0               2\n",
       "49.0              1\n",
       "6357062.0         1\n",
       "Name: UacLuaenable, dtype: int64"
      ]
     },
     "execution_count": 19,
     "metadata": {},
     "output_type": "execute_result"
    }
   ],
   "source": [
    "df.UacLuaenable.value_counts()"
   ]
  },
  {
   "cell_type": "code",
   "execution_count": 20,
   "id": "596cdc8f",
   "metadata": {},
   "outputs": [],
   "source": [
    "a = [0.0, 1.0]\n",
    "\n",
    "for i in df.UacLuaenable:\n",
    "    if i not in a:\n",
    "        b = random.choice([0.0, 1.0])        \n",
    "        df.UacLuaenable.replace({i:b}, inplace=True)"
   ]
  },
  {
   "cell_type": "code",
   "execution_count": 21,
   "id": "8adda3b4",
   "metadata": {},
   "outputs": [
    {
     "name": "stdout",
     "output_type": "stream",
     "text": [
      "1.0    992321\n",
      "0.0      7679\n",
      "Name: UacLuaenable, dtype: int64\n"
     ]
    },
    {
     "data": {
      "text/plain": [
       "0"
      ]
     },
     "execution_count": 21,
     "metadata": {},
     "output_type": "execute_result"
    }
   ],
   "source": [
    "print(df.UacLuaenable.value_counts())\n",
    "df.UacLuaenable.isna().sum()"
   ]
  },
  {
   "cell_type": "code",
   "execution_count": null,
   "id": "daf42792",
   "metadata": {},
   "outputs": [],
   "source": []
  },
  {
   "cell_type": "code",
   "execution_count": 22,
   "id": "9a6c5a34",
   "metadata": {},
   "outputs": [
    {
     "data": {
      "text/plain": [
       "142.0    311220\n",
       "628.0    136273\n",
       "554.0    124708\n",
       "355.0    108266\n",
       "556.0     82788\n",
       "          ...  \n",
       "753.0         1\n",
       "618.0         1\n",
       "117.0         1\n",
       "232.0         1\n",
       "179.0         1\n",
       "Name: Census_FirmwareManufacturerIdentifier, Length: 381, dtype: int64"
      ]
     },
     "execution_count": 22,
     "metadata": {},
     "output_type": "execute_result"
    }
   ],
   "source": [
    "df.Census_FirmwareManufacturerIdentifier.value_counts()"
   ]
  },
  {
   "cell_type": "code",
   "execution_count": 23,
   "id": "d5604393",
   "metadata": {},
   "outputs": [],
   "source": [
    "a = [142.0, 628.0, 554.0, 355.0, 556.0]\n",
    "\n",
    "for i in df.Census_FirmwareManufacturerIdentifier:\n",
    "    if i not in a:\n",
    "        b = random.choice([142.0, 628.0, 554.0, 355.0, 556.0])        \n",
    "        df.Census_FirmwareManufacturerIdentifier.replace({i:b}, inplace=True)"
   ]
  },
  {
   "cell_type": "code",
   "execution_count": 24,
   "id": "9abddb8a",
   "metadata": {},
   "outputs": [
    {
     "name": "stdout",
     "output_type": "stream",
     "text": [
      "142.0    407934\n",
      "628.0    162062\n",
      "355.0    158542\n",
      "554.0    141337\n",
      "556.0    130125\n",
      "Name: Census_FirmwareManufacturerIdentifier, dtype: int64\n"
     ]
    },
    {
     "data": {
      "text/plain": [
       "0"
      ]
     },
     "execution_count": 24,
     "metadata": {},
     "output_type": "execute_result"
    }
   ],
   "source": [
    "print(df.Census_FirmwareManufacturerIdentifier.value_counts())\n",
    "df.Census_FirmwareManufacturerIdentifier.isna().sum()"
   ]
  },
  {
   "cell_type": "code",
   "execution_count": null,
   "id": "5a4565cc",
   "metadata": {},
   "outputs": [],
   "source": []
  },
  {
   "cell_type": "code",
   "execution_count": 25,
   "id": "e1beeffc",
   "metadata": {},
   "outputs": [
    {
     "data": {
      "text/plain": [
       "1.1.15300.6    394929\n",
       "1.1.15400.4    268275\n",
       "1.1.15400.5    189743\n",
       "1.1.15200.1     46748\n",
       "1.1.15100.1     20045\n",
       "1.1.14600.4     17815\n",
       "1.1.14901.4      9658\n",
       "1.1.14104.0      9274\n",
       "1.1.15000.2      8439\n",
       "1.1.14800.3      7062\n",
       "1.1.13504.0      6176\n",
       "1.1.14500.5      3086\n",
       "1.1.15400.3      2761\n",
       "1.1.14700.5      2686\n",
       "1.1.14405.2      2501\n",
       "1.1.14306.0      1728\n",
       "1.1.14202.0      1192\n",
       "1.1.14003.0       877\n",
       "1.1.13303.0       693\n",
       "1.1.13407.0       679\n",
       "1.1.13804.0       669\n",
       "1.1.13903.0       644\n",
       "1.1.13601.0       569\n",
       "1.1.15300.5       562\n",
       "1.1.12902.0       398\n",
       "1.1.14305.0       384\n",
       "1.1.13202.0       370\n",
       "1.1.13704.0       350\n",
       "1.1.13103.0       331\n",
       "1.1.13000.0       298\n",
       "1.1.13701.0       297\n",
       "1.1.12805.0       215\n",
       "1.1.15000.1       116\n",
       "1.1.14901.3       106\n",
       "1.1.14700.3        87\n",
       "1.1.14800.1        76\n",
       "1.1.14700.4        57\n",
       "1.1.14500.2        22\n",
       "1.1.14303.0        16\n",
       "1.1.14201.0        11\n",
       "1.1.11701.0        11\n",
       "1.1.14103.0         8\n",
       "1.1.13902.0         7\n",
       "1.1.12400.0         5\n",
       "1.1.12101.0         4\n",
       "1.1.12505.0         3\n",
       "1.1.13802.0         3\n",
       "1.1.14102.0         3\n",
       "1.1.14002.0         2\n",
       "1.1.11903.0         1\n",
       "1.1.12205.0         1\n",
       "1.1.11302.0         1\n",
       "1.1.11502.0         1\n",
       "1.1.11400.0         1\n",
       "1.1.12002.0         1\n",
       "1.1.13406.0         1\n",
       "1.1.9700.0          1\n",
       "1.1.14001.0         1\n",
       "Name: EngineVersion, dtype: int64"
      ]
     },
     "execution_count": 25,
     "metadata": {},
     "output_type": "execute_result"
    }
   ],
   "source": [
    "df.EngineVersion.value_counts()"
   ]
  },
  {
   "cell_type": "code",
   "execution_count": 26,
   "id": "fff5c101",
   "metadata": {},
   "outputs": [],
   "source": [
    "a = ['1.1.15200.1', '1.1.15100.1']\n",
    "\n",
    "for i in df.EngineVersion:\n",
    "    if i not in a:\n",
    "        b = random.choice(['1.1.15200.1', '1.1.15100.1'])\n",
    "        df.EngineVersion.replace({i:b}, inplace=True)"
   ]
  },
  {
   "cell_type": "code",
   "execution_count": 27,
   "id": "34626a33",
   "metadata": {},
   "outputs": [],
   "source": [
    "df['EngineVersion'].replace({\"1.1.15100.1\": 0, \"1.1.15200.1\": 1}, inplace=True)"
   ]
  },
  {
   "cell_type": "code",
   "execution_count": 28,
   "id": "3d12e426",
   "metadata": {},
   "outputs": [
    {
     "name": "stdout",
     "output_type": "stream",
     "text": [
      "0    522701\n",
      "1    477299\n",
      "Name: EngineVersion, dtype: int64\n"
     ]
    },
    {
     "data": {
      "text/plain": [
       "0"
      ]
     },
     "execution_count": 28,
     "metadata": {},
     "output_type": "execute_result"
    }
   ],
   "source": [
    "print(df.EngineVersion.value_counts())\n",
    "df.EngineVersion.isna().sum()"
   ]
  },
  {
   "cell_type": "code",
   "execution_count": null,
   "id": "35fd0dc7",
   "metadata": {},
   "outputs": [],
   "source": []
  },
  {
   "cell_type": "code",
   "execution_count": 29,
   "id": "cfb055ab",
   "metadata": {},
   "outputs": [
    {
     "data": {
      "text/plain": [
       "4.18.1809.2        348944\n",
       "4.18.1810.5        271351\n",
       "4.18.1807.18075     87101\n",
       "4.12.16299.15       34195\n",
       "4.13.17134.1        29611\n",
       "                    ...  \n",
       "4.8.10240.16425         1\n",
       "4.13.17604.1000         1\n",
       "4.18.1810.20037         1\n",
       "4.15.17655.1000         1\n",
       "4.13.17618.1000         1\n",
       "Name: AppVersion, Length: 104, dtype: int64"
      ]
     },
     "execution_count": 29,
     "metadata": {},
     "output_type": "execute_result"
    }
   ],
   "source": [
    "df.AppVersion.value_counts()"
   ]
  },
  {
   "cell_type": "code",
   "execution_count": 30,
   "id": "a4c05a7f",
   "metadata": {},
   "outputs": [],
   "source": [
    "a = ['4.18.1807.18075', '4.18.1806.18062', '4.12.16299.15', '4.10.209.0', '4.13.17134.1']\n",
    "\n",
    "for i in df.AppVersion:\n",
    "    if i not in a:\n",
    "        b = random.choice(['4.18.1807.18075', '4.18.1806.18062', '4.12.16299.15', '4.10.209.0', '4.13.17134.1'])\n",
    "        df.AppVersion.replace({i:b}, inplace=True)"
   ]
  },
  {
   "cell_type": "code",
   "execution_count": 31,
   "id": "62b70047",
   "metadata": {},
   "outputs": [],
   "source": [
    "df['AppVersion'].replace({'4.18.1807.18075': 0, '4.18.1806.18062': 1, '4.12.16299.15': 2, '4.10.209.0': 3, \n",
    "                             '4.13.17134.1': 4}, inplace=True)"
   ]
  },
  {
   "cell_type": "code",
   "execution_count": 32,
   "id": "0f120a29",
   "metadata": {},
   "outputs": [
    {
     "name": "stdout",
     "output_type": "stream",
     "text": [
      "3    699550\n",
      "0    133143\n",
      "2     90826\n",
      "1     38781\n",
      "4     37700\n",
      "Name: AppVersion, dtype: int64\n"
     ]
    },
    {
     "data": {
      "text/plain": [
       "0"
      ]
     },
     "execution_count": 32,
     "metadata": {},
     "output_type": "execute_result"
    }
   ],
   "source": [
    "print(df.AppVersion.value_counts())\n",
    "df.AppVersion.isna().sum()"
   ]
  },
  {
   "cell_type": "code",
   "execution_count": null,
   "id": "56b84260",
   "metadata": {},
   "outputs": [],
   "source": []
  },
  {
   "cell_type": "code",
   "execution_count": 33,
   "id": "ef86d8e5",
   "metadata": {},
   "outputs": [
    {
     "data": {
      "text/plain": [
       "windows10      977590\n",
       "windows8        14072\n",
       "windows7         6960\n",
       "windows2016      1378\n",
       "Name: Platform, dtype: int64"
      ]
     },
     "execution_count": 33,
     "metadata": {},
     "output_type": "execute_result"
    }
   ],
   "source": [
    "df.Platform.value_counts()"
   ]
  },
  {
   "cell_type": "code",
   "execution_count": 34,
   "id": "bcd60246",
   "metadata": {},
   "outputs": [],
   "source": [
    "df['Platform'].replace({'windows10': 0, 'windows8': 1, 'windows7': 2, 'windows2016': 3}, inplace=True)"
   ]
  },
  {
   "cell_type": "code",
   "execution_count": 35,
   "id": "95d3846f",
   "metadata": {},
   "outputs": [
    {
     "name": "stdout",
     "output_type": "stream",
     "text": [
      "0    977590\n",
      "1     14072\n",
      "2      6960\n",
      "3      1378\n",
      "Name: Platform, dtype: int64\n"
     ]
    },
    {
     "data": {
      "text/plain": [
       "0"
      ]
     },
     "execution_count": 35,
     "metadata": {},
     "output_type": "execute_result"
    }
   ],
   "source": [
    "print(df.Platform.value_counts())\n",
    "df.Platform.isna().sum()"
   ]
  },
  {
   "cell_type": "code",
   "execution_count": null,
   "id": "34311527",
   "metadata": {},
   "outputs": [],
   "source": []
  },
  {
   "cell_type": "code",
   "execution_count": 36,
   "id": "aff5bd1f",
   "metadata": {},
   "outputs": [
    {
     "data": {
      "text/plain": [
       "x64      913520\n",
       "x86       86452\n",
       "arm64        28\n",
       "Name: Processor, dtype: int64"
      ]
     },
     "execution_count": 36,
     "metadata": {},
     "output_type": "execute_result"
    }
   ],
   "source": [
    "df.Processor.value_counts()"
   ]
  },
  {
   "cell_type": "code",
   "execution_count": 37,
   "id": "599ae18c",
   "metadata": {},
   "outputs": [],
   "source": [
    "df['Processor'].replace({'x64': 0, 'x86': 1, 'arm64': 2}, inplace=True)"
   ]
  },
  {
   "cell_type": "code",
   "execution_count": 38,
   "id": "10078d55",
   "metadata": {},
   "outputs": [
    {
     "name": "stdout",
     "output_type": "stream",
     "text": [
      "0    913520\n",
      "1     86452\n",
      "2        28\n",
      "Name: Processor, dtype: int64\n"
     ]
    },
    {
     "data": {
      "text/plain": [
       "0"
      ]
     },
     "execution_count": 38,
     "metadata": {},
     "output_type": "execute_result"
    }
   ],
   "source": [
    "print(df.Processor.value_counts())\n",
    "df.Processor.isna().sum()"
   ]
  },
  {
   "cell_type": "code",
   "execution_count": null,
   "id": "09deec87",
   "metadata": {},
   "outputs": [],
   "source": []
  },
  {
   "cell_type": "code",
   "execution_count": 39,
   "id": "515f1c9d",
   "metadata": {},
   "outputs": [
    {
     "data": {
      "text/plain": [
       "10.0.0.0       978909\n",
       "6.3.0.0         14071\n",
       "6.1.1.0          6888\n",
       "6.1.0.0            71\n",
       "10.0.3.0           29\n",
       "10.0.1.0           12\n",
       "10.0.4.0            4\n",
       "10.0.5.0            3\n",
       "10.0.32.72          3\n",
       "10.0.2.0            1\n",
       "6.1.0.112           1\n",
       "10.0.8.0            1\n",
       "10.0.1.44           1\n",
       "10.0.80.0           1\n",
       "10.0.26.128         1\n",
       "10.0.7.0            1\n",
       "10.0.16.0           1\n",
       "10.0.0.1            1\n",
       "6.3.1.0             1\n",
       "Name: OsVer, dtype: int64"
      ]
     },
     "execution_count": 39,
     "metadata": {},
     "output_type": "execute_result"
    }
   ],
   "source": [
    "df.OsVer.value_counts()"
   ]
  },
  {
   "cell_type": "code",
   "execution_count": 40,
   "id": "21ae43b0",
   "metadata": {},
   "outputs": [],
   "source": [
    "a = ['10.0.0.0', '6.3.0.0', '6.1.1.0']\n",
    "\n",
    "for i in df.OsVer:\n",
    "    if i not in a:\n",
    "        b = random.choice(['10.0.0.0', '6.3.0.0', '6.1.1.0'])\n",
    "        df.OsVer.replace({i:b}, inplace=True)"
   ]
  },
  {
   "cell_type": "code",
   "execution_count": 41,
   "id": "ab85e48d",
   "metadata": {},
   "outputs": [],
   "source": [
    "df['OsVer'].replace({'10.0.0.0': 0, '6.3.0.0': 1, '6.1.1.0': 2}, inplace=True)"
   ]
  },
  {
   "cell_type": "code",
   "execution_count": 42,
   "id": "d1a54fdd",
   "metadata": {},
   "outputs": [
    {
     "name": "stdout",
     "output_type": "stream",
     "text": [
      "0    978915\n",
      "1     14178\n",
      "2      6907\n",
      "Name: OsVer, dtype: int64\n"
     ]
    },
    {
     "data": {
      "text/plain": [
       "0"
      ]
     },
     "execution_count": 42,
     "metadata": {},
     "output_type": "execute_result"
    }
   ],
   "source": [
    "print(df.OsVer.value_counts())\n",
    "df.OsVer.isna().sum()"
   ]
  },
  {
   "cell_type": "code",
   "execution_count": null,
   "id": "e6595b81",
   "metadata": {},
   "outputs": [],
   "source": []
  },
  {
   "cell_type": "code",
   "execution_count": 43,
   "id": "6c6deed4",
   "metadata": {},
   "outputs": [
    {
     "data": {
      "text/plain": [
       "rs4           496074\n",
       "rs3           215607\n",
       "rs2            78079\n",
       "rs1            73104\n",
       "th2            46700\n",
       "prers5         37595\n",
       "th1            31809\n",
       "windows8.1     14072\n",
       "windows7        6960\n",
       "Name: OsPlatformSubRelease, dtype: int64"
      ]
     },
     "execution_count": 43,
     "metadata": {},
     "output_type": "execute_result"
    }
   ],
   "source": [
    "df.OsPlatformSubRelease.value_counts()"
   ]
  },
  {
   "cell_type": "code",
   "execution_count": 44,
   "id": "6f9e7e33",
   "metadata": {},
   "outputs": [],
   "source": [
    "df['OsPlatformSubRelease'].replace({'rs4': 0, 'rs3': 1, 'rs2': 2, 'rs1': 3, 'th2': 4, 'th1': 5,\n",
    "                                   'windows8.1': 6, 'windows7': 7, 'prers5': 8}, inplace=True)"
   ]
  },
  {
   "cell_type": "code",
   "execution_count": 45,
   "id": "3a970057",
   "metadata": {},
   "outputs": [
    {
     "name": "stdout",
     "output_type": "stream",
     "text": [
      "0    496074\n",
      "1    215607\n",
      "2     78079\n",
      "3     73104\n",
      "4     46700\n",
      "8     37595\n",
      "5     31809\n",
      "6     14072\n",
      "7      6960\n",
      "Name: OsPlatformSubRelease, dtype: int64\n"
     ]
    },
    {
     "data": {
      "text/plain": [
       "0"
      ]
     },
     "execution_count": 45,
     "metadata": {},
     "output_type": "execute_result"
    }
   ],
   "source": [
    "print(df.OsPlatformSubRelease.value_counts())\n",
    "df.OsPlatformSubRelease.isna().sum()"
   ]
  },
  {
   "cell_type": "code",
   "execution_count": null,
   "id": "0753e0ec",
   "metadata": {},
   "outputs": [],
   "source": []
  },
  {
   "cell_type": "code",
   "execution_count": 46,
   "id": "e1d8007d",
   "metadata": {},
   "outputs": [
    {
     "data": {
      "text/plain": [
       "Home               573865\n",
       "Pro                407742\n",
       "Invalid              6010\n",
       "Education            4662\n",
       "Enterprise           4060\n",
       "Enterprise LTSB      2607\n",
       "Cloud                 751\n",
       "Server                303\n",
       "Name: SkuEdition, dtype: int64"
      ]
     },
     "execution_count": 46,
     "metadata": {},
     "output_type": "execute_result"
    }
   ],
   "source": [
    "df.SkuEdition.value_counts()"
   ]
  },
  {
   "cell_type": "code",
   "execution_count": 47,
   "id": "f9e32ade",
   "metadata": {},
   "outputs": [],
   "source": [
    "df['SkuEdition'].replace({'Home': 0, 'Pro': 1, 'Invalid': 2, 'Education': 3, 'Enterprise': 4, \n",
    "                          'Enterprise LTSB': 5, 'Cloud': 6, 'Server': 7}, inplace=True)"
   ]
  },
  {
   "cell_type": "code",
   "execution_count": 48,
   "id": "085e4368",
   "metadata": {},
   "outputs": [
    {
     "name": "stdout",
     "output_type": "stream",
     "text": [
      "0    573865\n",
      "1    407742\n",
      "2      6010\n",
      "3      4662\n",
      "4      4060\n",
      "5      2607\n",
      "6       751\n",
      "7       303\n",
      "Name: SkuEdition, dtype: int64\n"
     ]
    },
    {
     "data": {
      "text/plain": [
       "0"
      ]
     },
     "execution_count": 48,
     "metadata": {},
     "output_type": "execute_result"
    }
   ],
   "source": [
    "print(df.SkuEdition.value_counts())\n",
    "df.SkuEdition.isna().sum()"
   ]
  },
  {
   "cell_type": "code",
   "execution_count": null,
   "id": "7e842aeb",
   "metadata": {},
   "outputs": [],
   "source": []
  },
  {
   "cell_type": "code",
   "execution_count": 49,
   "id": "16b74821",
   "metadata": {},
   "outputs": [
    {
     "data": {
      "text/plain": [
       "Windows.Desktop    998610\n",
       "Windows.Server       1387\n",
       "Windows                 3\n",
       "Name: Census_DeviceFamily, dtype: int64"
      ]
     },
     "execution_count": 49,
     "metadata": {},
     "output_type": "execute_result"
    }
   ],
   "source": [
    "df.Census_DeviceFamily.value_counts()"
   ]
  },
  {
   "cell_type": "code",
   "execution_count": 50,
   "id": "bd5744fc",
   "metadata": {},
   "outputs": [],
   "source": [
    "df['Census_DeviceFamily'].replace({'Windows.Desktop': 0, 'Windows.Server': 1, 'Windows': 2}, inplace=True)"
   ]
  },
  {
   "cell_type": "code",
   "execution_count": 51,
   "id": "72fbc0b9",
   "metadata": {},
   "outputs": [
    {
     "name": "stdout",
     "output_type": "stream",
     "text": [
      "0    998610\n",
      "1      1387\n",
      "2         3\n",
      "Name: Census_DeviceFamily, dtype: int64\n"
     ]
    },
    {
     "data": {
      "text/plain": [
       "0"
      ]
     },
     "execution_count": 51,
     "metadata": {},
     "output_type": "execute_result"
    }
   ],
   "source": [
    "print(df.Census_DeviceFamily.value_counts())\n",
    "df.Census_DeviceFamily.isna().sum()"
   ]
  },
  {
   "cell_type": "code",
   "execution_count": null,
   "id": "742335bf",
   "metadata": {},
   "outputs": [],
   "source": []
  },
  {
   "cell_type": "code",
   "execution_count": 52,
   "id": "553104c7",
   "metadata": {},
   "outputs": [
    {
     "name": "stdout",
     "output_type": "stream",
     "text": [
      "<class 'pandas.core.frame.DataFrame'>\n",
      "RangeIndex: 1000000 entries, 0 to 999999\n",
      "Data columns (total 19 columns):\n",
      " #   Column                                 Non-Null Count    Dtype  \n",
      "---  ------                                 --------------    -----  \n",
      " 0   EngineVersion                          1000000 non-null  int64  \n",
      " 1   AppVersion                             1000000 non-null  int64  \n",
      " 2   CountryIdentifier                      1000000 non-null  int64  \n",
      " 3   LocaleEnglishNameIdentifier            1000000 non-null  int64  \n",
      " 4   Platform                               1000000 non-null  int64  \n",
      " 5   Processor                              1000000 non-null  int64  \n",
      " 6   OsVer                                  1000000 non-null  int64  \n",
      " 7   OsBuild                                1000000 non-null  int64  \n",
      " 8   OsSuite                                1000000 non-null  int64  \n",
      " 9   OsPlatformSubRelease                   1000000 non-null  int64  \n",
      " 10  SkuEdition                             1000000 non-null  int64  \n",
      " 11  IsProtected                            1000000 non-null  float64\n",
      " 12  SMode                                  1000000 non-null  float64\n",
      " 13  Firewall                               1000000 non-null  float64\n",
      " 14  UacLuaenable                           1000000 non-null  float64\n",
      " 15  Census_DeviceFamily                    1000000 non-null  int64  \n",
      " 16  Census_FirmwareManufacturerIdentifier  1000000 non-null  float64\n",
      " 17  Census_FirmwareVersionIdentifier       1000000 non-null  float64\n",
      " 18  Census_IsSecureBootEnabled             1000000 non-null  int64  \n",
      "dtypes: float64(6), int64(13)\n",
      "memory usage: 145.0 MB\n"
     ]
    }
   ],
   "source": [
    "df.info()"
   ]
  },
  {
   "cell_type": "code",
   "execution_count": 53,
   "id": "5ca4dd01",
   "metadata": {},
   "outputs": [
    {
     "data": {
      "text/plain": [
       "EngineVersion                            0\n",
       "AppVersion                               0\n",
       "CountryIdentifier                        0\n",
       "LocaleEnglishNameIdentifier              0\n",
       "Platform                                 0\n",
       "Processor                                0\n",
       "OsVer                                    0\n",
       "OsBuild                                  0\n",
       "OsSuite                                  0\n",
       "OsPlatformSubRelease                     0\n",
       "SkuEdition                               0\n",
       "IsProtected                              0\n",
       "SMode                                    0\n",
       "Firewall                                 0\n",
       "UacLuaenable                             0\n",
       "Census_DeviceFamily                      0\n",
       "Census_FirmwareManufacturerIdentifier    0\n",
       "Census_FirmwareVersionIdentifier         0\n",
       "Census_IsSecureBootEnabled               0\n",
       "dtype: int64"
      ]
     },
     "execution_count": 53,
     "metadata": {},
     "output_type": "execute_result"
    }
   ],
   "source": [
    "df.isna().sum()"
   ]
  },
  {
   "cell_type": "code",
   "execution_count": null,
   "id": "8e3a3bdf",
   "metadata": {},
   "outputs": [],
   "source": [
    "df.to_csv('sample_test2.csv')"
   ]
  },
  {
   "cell_type": "code",
   "execution_count": null,
   "id": "681446fa",
   "metadata": {},
   "outputs": [],
   "source": []
  }
 ],
 "metadata": {
  "kernelspec": {
   "display_name": "Python 3 (ipykernel)",
   "language": "python",
   "name": "python3"
  },
  "language_info": {
   "codemirror_mode": {
    "name": "ipython",
    "version": 3
   },
   "file_extension": ".py",
   "mimetype": "text/x-python",
   "name": "python",
   "nbconvert_exporter": "python",
   "pygments_lexer": "ipython3",
   "version": "3.9.6"
  }
 },
 "nbformat": 4,
 "nbformat_minor": 5
}
