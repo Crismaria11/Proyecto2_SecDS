{
 "cells": [
  {
   "cell_type": "markdown",
   "id": "414a9474",
   "metadata": {},
   "source": [
    "# Proyecto # 2\n",
    "Cristina Bautista - 161260\n",
    "\n",
    "Abril Palencia - 18198 "
   ]
  },
  {
   "cell_type": "code",
   "execution_count": 1,
   "id": "e2b2c8da",
   "metadata": {},
   "outputs": [],
   "source": [
    "import pandas as pd\n",
    "import numpy as np\n",
    "import matplotlib.pyplot as plt\n",
    "import seaborn as sns\n",
    "import re\n",
    "import random\n",
    "\n",
    "%matplotlib inline"
   ]
  },
  {
   "cell_type": "code",
   "execution_count": 2,
   "id": "df109e5f",
   "metadata": {},
   "outputs": [],
   "source": [
    "df_train = pd.read_csv('sample_train2.csv')"
   ]
  },
  {
   "cell_type": "code",
   "execution_count": 3,
   "id": "4f159b87",
   "metadata": {},
   "outputs": [
    {
     "data": {
      "text/html": [
       "<div>\n",
       "<style scoped>\n",
       "    .dataframe tbody tr th:only-of-type {\n",
       "        vertical-align: middle;\n",
       "    }\n",
       "\n",
       "    .dataframe tbody tr th {\n",
       "        vertical-align: top;\n",
       "    }\n",
       "\n",
       "    .dataframe thead th {\n",
       "        text-align: right;\n",
       "    }\n",
       "</style>\n",
       "<table border=\"1\" class=\"dataframe\">\n",
       "  <thead>\n",
       "    <tr style=\"text-align: right;\">\n",
       "      <th></th>\n",
       "      <th>Unnamed: 0</th>\n",
       "      <th>EngineVersion</th>\n",
       "      <th>AppVersion</th>\n",
       "      <th>CountryIdentifier</th>\n",
       "      <th>LocaleEnglishNameIdentifier</th>\n",
       "      <th>Platform</th>\n",
       "      <th>Processor</th>\n",
       "      <th>OsVer</th>\n",
       "      <th>OsBuild</th>\n",
       "      <th>OsSuite</th>\n",
       "      <th>...</th>\n",
       "      <th>SkuEdition</th>\n",
       "      <th>IsProtected</th>\n",
       "      <th>SMode</th>\n",
       "      <th>Firewall</th>\n",
       "      <th>UacLuaenable</th>\n",
       "      <th>Census_DeviceFamily</th>\n",
       "      <th>Census_FirmwareManufacturerIdentifier</th>\n",
       "      <th>Census_FirmwareVersionIdentifier</th>\n",
       "      <th>Census_IsSecureBootEnabled</th>\n",
       "      <th>HasDetections</th>\n",
       "    </tr>\n",
       "  </thead>\n",
       "  <tbody>\n",
       "    <tr>\n",
       "      <th>0</th>\n",
       "      <td>0</td>\n",
       "      <td>0</td>\n",
       "      <td>3</td>\n",
       "      <td>97</td>\n",
       "      <td>124</td>\n",
       "      <td>2</td>\n",
       "      <td>1</td>\n",
       "      <td>2</td>\n",
       "      <td>7601</td>\n",
       "      <td>768</td>\n",
       "      <td>...</td>\n",
       "      <td>2</td>\n",
       "      <td>1.0</td>\n",
       "      <td>0.0</td>\n",
       "      <td>0.0</td>\n",
       "      <td>1.0</td>\n",
       "      <td>0</td>\n",
       "      <td>142.0</td>\n",
       "      <td>33054.0</td>\n",
       "      <td>0</td>\n",
       "      <td>0</td>\n",
       "    </tr>\n",
       "    <tr>\n",
       "      <th>1</th>\n",
       "      <td>1</td>\n",
       "      <td>1</td>\n",
       "      <td>0</td>\n",
       "      <td>149</td>\n",
       "      <td>56</td>\n",
       "      <td>0</td>\n",
       "      <td>0</td>\n",
       "      <td>0</td>\n",
       "      <td>17134</td>\n",
       "      <td>768</td>\n",
       "      <td>...</td>\n",
       "      <td>0</td>\n",
       "      <td>1.0</td>\n",
       "      <td>0.0</td>\n",
       "      <td>1.0</td>\n",
       "      <td>1.0</td>\n",
       "      <td>0</td>\n",
       "      <td>628.0</td>\n",
       "      <td>11778.0</td>\n",
       "      <td>0</td>\n",
       "      <td>1</td>\n",
       "    </tr>\n",
       "    <tr>\n",
       "      <th>2</th>\n",
       "      <td>2</td>\n",
       "      <td>1</td>\n",
       "      <td>0</td>\n",
       "      <td>51</td>\n",
       "      <td>103</td>\n",
       "      <td>0</td>\n",
       "      <td>0</td>\n",
       "      <td>0</td>\n",
       "      <td>17134</td>\n",
       "      <td>768</td>\n",
       "      <td>...</td>\n",
       "      <td>0</td>\n",
       "      <td>1.0</td>\n",
       "      <td>0.0</td>\n",
       "      <td>1.0</td>\n",
       "      <td>1.0</td>\n",
       "      <td>0</td>\n",
       "      <td>628.0</td>\n",
       "      <td>33105.0</td>\n",
       "      <td>0</td>\n",
       "      <td>1</td>\n",
       "    </tr>\n",
       "    <tr>\n",
       "      <th>3</th>\n",
       "      <td>3</td>\n",
       "      <td>1</td>\n",
       "      <td>0</td>\n",
       "      <td>41</td>\n",
       "      <td>217</td>\n",
       "      <td>0</td>\n",
       "      <td>0</td>\n",
       "      <td>0</td>\n",
       "      <td>17134</td>\n",
       "      <td>256</td>\n",
       "      <td>...</td>\n",
       "      <td>1</td>\n",
       "      <td>1.0</td>\n",
       "      <td>0.0</td>\n",
       "      <td>1.0</td>\n",
       "      <td>1.0</td>\n",
       "      <td>0</td>\n",
       "      <td>554.0</td>\n",
       "      <td>33111.0</td>\n",
       "      <td>0</td>\n",
       "      <td>1</td>\n",
       "    </tr>\n",
       "    <tr>\n",
       "      <th>4</th>\n",
       "      <td>4</td>\n",
       "      <td>1</td>\n",
       "      <td>0</td>\n",
       "      <td>122</td>\n",
       "      <td>88</td>\n",
       "      <td>0</td>\n",
       "      <td>0</td>\n",
       "      <td>0</td>\n",
       "      <td>16299</td>\n",
       "      <td>256</td>\n",
       "      <td>...</td>\n",
       "      <td>1</td>\n",
       "      <td>1.0</td>\n",
       "      <td>0.0</td>\n",
       "      <td>1.0</td>\n",
       "      <td>1.0</td>\n",
       "      <td>0</td>\n",
       "      <td>628.0</td>\n",
       "      <td>33111.0</td>\n",
       "      <td>0</td>\n",
       "      <td>1</td>\n",
       "    </tr>\n",
       "  </tbody>\n",
       "</table>\n",
       "<p>5 rows × 21 columns</p>\n",
       "</div>"
      ],
      "text/plain": [
       "   Unnamed: 0  EngineVersion  AppVersion  CountryIdentifier  \\\n",
       "0           0              0           3                 97   \n",
       "1           1              1           0                149   \n",
       "2           2              1           0                 51   \n",
       "3           3              1           0                 41   \n",
       "4           4              1           0                122   \n",
       "\n",
       "   LocaleEnglishNameIdentifier  Platform  Processor  OsVer  OsBuild  OsSuite  \\\n",
       "0                          124         2          1      2     7601      768   \n",
       "1                           56         0          0      0    17134      768   \n",
       "2                          103         0          0      0    17134      768   \n",
       "3                          217         0          0      0    17134      256   \n",
       "4                           88         0          0      0    16299      256   \n",
       "\n",
       "   ...  SkuEdition  IsProtected  SMode  Firewall  UacLuaenable  \\\n",
       "0  ...           2          1.0    0.0       0.0           1.0   \n",
       "1  ...           0          1.0    0.0       1.0           1.0   \n",
       "2  ...           0          1.0    0.0       1.0           1.0   \n",
       "3  ...           1          1.0    0.0       1.0           1.0   \n",
       "4  ...           1          1.0    0.0       1.0           1.0   \n",
       "\n",
       "   Census_DeviceFamily  Census_FirmwareManufacturerIdentifier  \\\n",
       "0                    0                                  142.0   \n",
       "1                    0                                  628.0   \n",
       "2                    0                                  628.0   \n",
       "3                    0                                  554.0   \n",
       "4                    0                                  628.0   \n",
       "\n",
       "   Census_FirmwareVersionIdentifier  Census_IsSecureBootEnabled  HasDetections  \n",
       "0                           33054.0                           0              0  \n",
       "1                           11778.0                           0              1  \n",
       "2                           33105.0                           0              1  \n",
       "3                           33111.0                           0              1  \n",
       "4                           33111.0                           0              1  \n",
       "\n",
       "[5 rows x 21 columns]"
      ]
     },
     "execution_count": 3,
     "metadata": {},
     "output_type": "execute_result"
    }
   ],
   "source": [
    "df_train.head()"
   ]
  },
  {
   "cell_type": "code",
   "execution_count": 4,
   "id": "84e39c84",
   "metadata": {},
   "outputs": [],
   "source": [
    "df_train = df_train.drop(labels=[\"Unnamed: 0\"], axis=1)"
   ]
  },
  {
   "cell_type": "code",
   "execution_count": 5,
   "id": "3b357439",
   "metadata": {},
   "outputs": [
    {
     "data": {
      "text/html": [
       "<div>\n",
       "<style scoped>\n",
       "    .dataframe tbody tr th:only-of-type {\n",
       "        vertical-align: middle;\n",
       "    }\n",
       "\n",
       "    .dataframe tbody tr th {\n",
       "        vertical-align: top;\n",
       "    }\n",
       "\n",
       "    .dataframe thead th {\n",
       "        text-align: right;\n",
       "    }\n",
       "</style>\n",
       "<table border=\"1\" class=\"dataframe\">\n",
       "  <thead>\n",
       "    <tr style=\"text-align: right;\">\n",
       "      <th></th>\n",
       "      <th>EngineVersion</th>\n",
       "      <th>AppVersion</th>\n",
       "      <th>CountryIdentifier</th>\n",
       "      <th>LocaleEnglishNameIdentifier</th>\n",
       "      <th>Platform</th>\n",
       "      <th>Processor</th>\n",
       "      <th>OsVer</th>\n",
       "      <th>OsBuild</th>\n",
       "      <th>OsSuite</th>\n",
       "      <th>OsPlatformSubRelease</th>\n",
       "      <th>SkuEdition</th>\n",
       "      <th>IsProtected</th>\n",
       "      <th>SMode</th>\n",
       "      <th>Firewall</th>\n",
       "      <th>UacLuaenable</th>\n",
       "      <th>Census_DeviceFamily</th>\n",
       "      <th>Census_FirmwareManufacturerIdentifier</th>\n",
       "      <th>Census_FirmwareVersionIdentifier</th>\n",
       "      <th>Census_IsSecureBootEnabled</th>\n",
       "      <th>HasDetections</th>\n",
       "    </tr>\n",
       "  </thead>\n",
       "  <tbody>\n",
       "    <tr>\n",
       "      <th>0</th>\n",
       "      <td>0</td>\n",
       "      <td>3</td>\n",
       "      <td>97</td>\n",
       "      <td>124</td>\n",
       "      <td>2</td>\n",
       "      <td>1</td>\n",
       "      <td>2</td>\n",
       "      <td>7601</td>\n",
       "      <td>768</td>\n",
       "      <td>7</td>\n",
       "      <td>2</td>\n",
       "      <td>1.0</td>\n",
       "      <td>0.0</td>\n",
       "      <td>0.0</td>\n",
       "      <td>1.0</td>\n",
       "      <td>0</td>\n",
       "      <td>142.0</td>\n",
       "      <td>33054.0</td>\n",
       "      <td>0</td>\n",
       "      <td>0</td>\n",
       "    </tr>\n",
       "    <tr>\n",
       "      <th>1</th>\n",
       "      <td>1</td>\n",
       "      <td>0</td>\n",
       "      <td>149</td>\n",
       "      <td>56</td>\n",
       "      <td>0</td>\n",
       "      <td>0</td>\n",
       "      <td>0</td>\n",
       "      <td>17134</td>\n",
       "      <td>768</td>\n",
       "      <td>0</td>\n",
       "      <td>0</td>\n",
       "      <td>1.0</td>\n",
       "      <td>0.0</td>\n",
       "      <td>1.0</td>\n",
       "      <td>1.0</td>\n",
       "      <td>0</td>\n",
       "      <td>628.0</td>\n",
       "      <td>11778.0</td>\n",
       "      <td>0</td>\n",
       "      <td>1</td>\n",
       "    </tr>\n",
       "    <tr>\n",
       "      <th>2</th>\n",
       "      <td>1</td>\n",
       "      <td>0</td>\n",
       "      <td>51</td>\n",
       "      <td>103</td>\n",
       "      <td>0</td>\n",
       "      <td>0</td>\n",
       "      <td>0</td>\n",
       "      <td>17134</td>\n",
       "      <td>768</td>\n",
       "      <td>0</td>\n",
       "      <td>0</td>\n",
       "      <td>1.0</td>\n",
       "      <td>0.0</td>\n",
       "      <td>1.0</td>\n",
       "      <td>1.0</td>\n",
       "      <td>0</td>\n",
       "      <td>628.0</td>\n",
       "      <td>33105.0</td>\n",
       "      <td>0</td>\n",
       "      <td>1</td>\n",
       "    </tr>\n",
       "    <tr>\n",
       "      <th>3</th>\n",
       "      <td>1</td>\n",
       "      <td>0</td>\n",
       "      <td>41</td>\n",
       "      <td>217</td>\n",
       "      <td>0</td>\n",
       "      <td>0</td>\n",
       "      <td>0</td>\n",
       "      <td>17134</td>\n",
       "      <td>256</td>\n",
       "      <td>0</td>\n",
       "      <td>1</td>\n",
       "      <td>1.0</td>\n",
       "      <td>0.0</td>\n",
       "      <td>1.0</td>\n",
       "      <td>1.0</td>\n",
       "      <td>0</td>\n",
       "      <td>554.0</td>\n",
       "      <td>33111.0</td>\n",
       "      <td>0</td>\n",
       "      <td>1</td>\n",
       "    </tr>\n",
       "    <tr>\n",
       "      <th>4</th>\n",
       "      <td>1</td>\n",
       "      <td>0</td>\n",
       "      <td>122</td>\n",
       "      <td>88</td>\n",
       "      <td>0</td>\n",
       "      <td>0</td>\n",
       "      <td>0</td>\n",
       "      <td>16299</td>\n",
       "      <td>256</td>\n",
       "      <td>1</td>\n",
       "      <td>1</td>\n",
       "      <td>1.0</td>\n",
       "      <td>0.0</td>\n",
       "      <td>1.0</td>\n",
       "      <td>1.0</td>\n",
       "      <td>0</td>\n",
       "      <td>628.0</td>\n",
       "      <td>33111.0</td>\n",
       "      <td>0</td>\n",
       "      <td>1</td>\n",
       "    </tr>\n",
       "  </tbody>\n",
       "</table>\n",
       "</div>"
      ],
      "text/plain": [
       "   EngineVersion  AppVersion  CountryIdentifier  LocaleEnglishNameIdentifier  \\\n",
       "0              0           3                 97                          124   \n",
       "1              1           0                149                           56   \n",
       "2              1           0                 51                          103   \n",
       "3              1           0                 41                          217   \n",
       "4              1           0                122                           88   \n",
       "\n",
       "   Platform  Processor  OsVer  OsBuild  OsSuite  OsPlatformSubRelease  \\\n",
       "0         2          1      2     7601      768                     7   \n",
       "1         0          0      0    17134      768                     0   \n",
       "2         0          0      0    17134      768                     0   \n",
       "3         0          0      0    17134      256                     0   \n",
       "4         0          0      0    16299      256                     1   \n",
       "\n",
       "   SkuEdition  IsProtected  SMode  Firewall  UacLuaenable  \\\n",
       "0           2          1.0    0.0       0.0           1.0   \n",
       "1           0          1.0    0.0       1.0           1.0   \n",
       "2           0          1.0    0.0       1.0           1.0   \n",
       "3           1          1.0    0.0       1.0           1.0   \n",
       "4           1          1.0    0.0       1.0           1.0   \n",
       "\n",
       "   Census_DeviceFamily  Census_FirmwareManufacturerIdentifier  \\\n",
       "0                    0                                  142.0   \n",
       "1                    0                                  628.0   \n",
       "2                    0                                  628.0   \n",
       "3                    0                                  554.0   \n",
       "4                    0                                  628.0   \n",
       "\n",
       "   Census_FirmwareVersionIdentifier  Census_IsSecureBootEnabled  HasDetections  \n",
       "0                           33054.0                           0              0  \n",
       "1                           11778.0                           0              1  \n",
       "2                           33105.0                           0              1  \n",
       "3                           33111.0                           0              1  \n",
       "4                           33111.0                           0              1  "
      ]
     },
     "execution_count": 5,
     "metadata": {},
     "output_type": "execute_result"
    }
   ],
   "source": [
    "df_train.head()"
   ]
  },
  {
   "cell_type": "code",
   "execution_count": 6,
   "id": "15156d3f",
   "metadata": {},
   "outputs": [],
   "source": [
    "df_test = pd.read_csv('sample_test2.csv')"
   ]
  },
  {
   "cell_type": "code",
   "execution_count": 7,
   "id": "30a6686a",
   "metadata": {},
   "outputs": [
    {
     "data": {
      "text/html": [
       "<div>\n",
       "<style scoped>\n",
       "    .dataframe tbody tr th:only-of-type {\n",
       "        vertical-align: middle;\n",
       "    }\n",
       "\n",
       "    .dataframe tbody tr th {\n",
       "        vertical-align: top;\n",
       "    }\n",
       "\n",
       "    .dataframe thead th {\n",
       "        text-align: right;\n",
       "    }\n",
       "</style>\n",
       "<table border=\"1\" class=\"dataframe\">\n",
       "  <thead>\n",
       "    <tr style=\"text-align: right;\">\n",
       "      <th></th>\n",
       "      <th>Unnamed: 0</th>\n",
       "      <th>EngineVersion</th>\n",
       "      <th>AppVersion</th>\n",
       "      <th>CountryIdentifier</th>\n",
       "      <th>LocaleEnglishNameIdentifier</th>\n",
       "      <th>Platform</th>\n",
       "      <th>Processor</th>\n",
       "      <th>OsVer</th>\n",
       "      <th>OsBuild</th>\n",
       "      <th>OsSuite</th>\n",
       "      <th>OsPlatformSubRelease</th>\n",
       "      <th>SkuEdition</th>\n",
       "      <th>IsProtected</th>\n",
       "      <th>SMode</th>\n",
       "      <th>Firewall</th>\n",
       "      <th>UacLuaenable</th>\n",
       "      <th>Census_DeviceFamily</th>\n",
       "      <th>Census_FirmwareManufacturerIdentifier</th>\n",
       "      <th>Census_FirmwareVersionIdentifier</th>\n",
       "      <th>Census_IsSecureBootEnabled</th>\n",
       "    </tr>\n",
       "  </thead>\n",
       "  <tbody>\n",
       "    <tr>\n",
       "      <th>0</th>\n",
       "      <td>0</td>\n",
       "      <td>0</td>\n",
       "      <td>3</td>\n",
       "      <td>207</td>\n",
       "      <td>75</td>\n",
       "      <td>0</td>\n",
       "      <td>0</td>\n",
       "      <td>0</td>\n",
       "      <td>17134</td>\n",
       "      <td>256</td>\n",
       "      <td>0</td>\n",
       "      <td>1</td>\n",
       "      <td>1.0</td>\n",
       "      <td>1.0</td>\n",
       "      <td>1.0</td>\n",
       "      <td>1.0</td>\n",
       "      <td>0</td>\n",
       "      <td>355.0</td>\n",
       "      <td>33108.0</td>\n",
       "      <td>0</td>\n",
       "    </tr>\n",
       "    <tr>\n",
       "      <th>1</th>\n",
       "      <td>1</td>\n",
       "      <td>0</td>\n",
       "      <td>0</td>\n",
       "      <td>207</td>\n",
       "      <td>75</td>\n",
       "      <td>0</td>\n",
       "      <td>0</td>\n",
       "      <td>0</td>\n",
       "      <td>10586</td>\n",
       "      <td>768</td>\n",
       "      <td>4</td>\n",
       "      <td>0</td>\n",
       "      <td>1.0</td>\n",
       "      <td>0.0</td>\n",
       "      <td>1.0</td>\n",
       "      <td>1.0</td>\n",
       "      <td>0</td>\n",
       "      <td>355.0</td>\n",
       "      <td>11778.0</td>\n",
       "      <td>1</td>\n",
       "    </tr>\n",
       "    <tr>\n",
       "      <th>2</th>\n",
       "      <td>2</td>\n",
       "      <td>0</td>\n",
       "      <td>3</td>\n",
       "      <td>207</td>\n",
       "      <td>75</td>\n",
       "      <td>0</td>\n",
       "      <td>0</td>\n",
       "      <td>0</td>\n",
       "      <td>17134</td>\n",
       "      <td>256</td>\n",
       "      <td>0</td>\n",
       "      <td>1</td>\n",
       "      <td>1.0</td>\n",
       "      <td>1.0</td>\n",
       "      <td>1.0</td>\n",
       "      <td>1.0</td>\n",
       "      <td>0</td>\n",
       "      <td>142.0</td>\n",
       "      <td>33111.0</td>\n",
       "      <td>0</td>\n",
       "    </tr>\n",
       "    <tr>\n",
       "      <th>3</th>\n",
       "      <td>3</td>\n",
       "      <td>0</td>\n",
       "      <td>3</td>\n",
       "      <td>85</td>\n",
       "      <td>225</td>\n",
       "      <td>0</td>\n",
       "      <td>0</td>\n",
       "      <td>0</td>\n",
       "      <td>17134</td>\n",
       "      <td>256</td>\n",
       "      <td>0</td>\n",
       "      <td>1</td>\n",
       "      <td>1.0</td>\n",
       "      <td>1.0</td>\n",
       "      <td>1.0</td>\n",
       "      <td>1.0</td>\n",
       "      <td>0</td>\n",
       "      <td>355.0</td>\n",
       "      <td>11778.0</td>\n",
       "      <td>1</td>\n",
       "    </tr>\n",
       "    <tr>\n",
       "      <th>4</th>\n",
       "      <td>4</td>\n",
       "      <td>1</td>\n",
       "      <td>3</td>\n",
       "      <td>158</td>\n",
       "      <td>75</td>\n",
       "      <td>0</td>\n",
       "      <td>0</td>\n",
       "      <td>0</td>\n",
       "      <td>17134</td>\n",
       "      <td>256</td>\n",
       "      <td>0</td>\n",
       "      <td>1</td>\n",
       "      <td>1.0</td>\n",
       "      <td>1.0</td>\n",
       "      <td>1.0</td>\n",
       "      <td>1.0</td>\n",
       "      <td>0</td>\n",
       "      <td>556.0</td>\n",
       "      <td>33108.0</td>\n",
       "      <td>0</td>\n",
       "    </tr>\n",
       "  </tbody>\n",
       "</table>\n",
       "</div>"
      ],
      "text/plain": [
       "   Unnamed: 0  EngineVersion  AppVersion  CountryIdentifier  \\\n",
       "0           0              0           3                207   \n",
       "1           1              0           0                207   \n",
       "2           2              0           3                207   \n",
       "3           3              0           3                 85   \n",
       "4           4              1           3                158   \n",
       "\n",
       "   LocaleEnglishNameIdentifier  Platform  Processor  OsVer  OsBuild  OsSuite  \\\n",
       "0                           75         0          0      0    17134      256   \n",
       "1                           75         0          0      0    10586      768   \n",
       "2                           75         0          0      0    17134      256   \n",
       "3                          225         0          0      0    17134      256   \n",
       "4                           75         0          0      0    17134      256   \n",
       "\n",
       "   OsPlatformSubRelease  SkuEdition  IsProtected  SMode  Firewall  \\\n",
       "0                     0           1          1.0    1.0       1.0   \n",
       "1                     4           0          1.0    0.0       1.0   \n",
       "2                     0           1          1.0    1.0       1.0   \n",
       "3                     0           1          1.0    1.0       1.0   \n",
       "4                     0           1          1.0    1.0       1.0   \n",
       "\n",
       "   UacLuaenable  Census_DeviceFamily  Census_FirmwareManufacturerIdentifier  \\\n",
       "0           1.0                    0                                  355.0   \n",
       "1           1.0                    0                                  355.0   \n",
       "2           1.0                    0                                  142.0   \n",
       "3           1.0                    0                                  355.0   \n",
       "4           1.0                    0                                  556.0   \n",
       "\n",
       "   Census_FirmwareVersionIdentifier  Census_IsSecureBootEnabled  \n",
       "0                           33108.0                           0  \n",
       "1                           11778.0                           1  \n",
       "2                           33111.0                           0  \n",
       "3                           11778.0                           1  \n",
       "4                           33108.0                           0  "
      ]
     },
     "execution_count": 7,
     "metadata": {},
     "output_type": "execute_result"
    }
   ],
   "source": [
    "df_test.head()"
   ]
  },
  {
   "cell_type": "code",
   "execution_count": 8,
   "id": "4b8c3938",
   "metadata": {},
   "outputs": [],
   "source": [
    "df_test = df_test.drop(labels=[\"Unnamed: 0\"], axis=1)"
   ]
  },
  {
   "cell_type": "code",
   "execution_count": 9,
   "id": "d63eeb97",
   "metadata": {},
   "outputs": [
    {
     "data": {
      "text/html": [
       "<div>\n",
       "<style scoped>\n",
       "    .dataframe tbody tr th:only-of-type {\n",
       "        vertical-align: middle;\n",
       "    }\n",
       "\n",
       "    .dataframe tbody tr th {\n",
       "        vertical-align: top;\n",
       "    }\n",
       "\n",
       "    .dataframe thead th {\n",
       "        text-align: right;\n",
       "    }\n",
       "</style>\n",
       "<table border=\"1\" class=\"dataframe\">\n",
       "  <thead>\n",
       "    <tr style=\"text-align: right;\">\n",
       "      <th></th>\n",
       "      <th>EngineVersion</th>\n",
       "      <th>AppVersion</th>\n",
       "      <th>CountryIdentifier</th>\n",
       "      <th>LocaleEnglishNameIdentifier</th>\n",
       "      <th>Platform</th>\n",
       "      <th>Processor</th>\n",
       "      <th>OsVer</th>\n",
       "      <th>OsBuild</th>\n",
       "      <th>OsSuite</th>\n",
       "      <th>OsPlatformSubRelease</th>\n",
       "      <th>SkuEdition</th>\n",
       "      <th>IsProtected</th>\n",
       "      <th>SMode</th>\n",
       "      <th>Firewall</th>\n",
       "      <th>UacLuaenable</th>\n",
       "      <th>Census_DeviceFamily</th>\n",
       "      <th>Census_FirmwareManufacturerIdentifier</th>\n",
       "      <th>Census_FirmwareVersionIdentifier</th>\n",
       "      <th>Census_IsSecureBootEnabled</th>\n",
       "    </tr>\n",
       "  </thead>\n",
       "  <tbody>\n",
       "    <tr>\n",
       "      <th>0</th>\n",
       "      <td>0</td>\n",
       "      <td>3</td>\n",
       "      <td>207</td>\n",
       "      <td>75</td>\n",
       "      <td>0</td>\n",
       "      <td>0</td>\n",
       "      <td>0</td>\n",
       "      <td>17134</td>\n",
       "      <td>256</td>\n",
       "      <td>0</td>\n",
       "      <td>1</td>\n",
       "      <td>1.0</td>\n",
       "      <td>1.0</td>\n",
       "      <td>1.0</td>\n",
       "      <td>1.0</td>\n",
       "      <td>0</td>\n",
       "      <td>355.0</td>\n",
       "      <td>33108.0</td>\n",
       "      <td>0</td>\n",
       "    </tr>\n",
       "    <tr>\n",
       "      <th>1</th>\n",
       "      <td>0</td>\n",
       "      <td>0</td>\n",
       "      <td>207</td>\n",
       "      <td>75</td>\n",
       "      <td>0</td>\n",
       "      <td>0</td>\n",
       "      <td>0</td>\n",
       "      <td>10586</td>\n",
       "      <td>768</td>\n",
       "      <td>4</td>\n",
       "      <td>0</td>\n",
       "      <td>1.0</td>\n",
       "      <td>0.0</td>\n",
       "      <td>1.0</td>\n",
       "      <td>1.0</td>\n",
       "      <td>0</td>\n",
       "      <td>355.0</td>\n",
       "      <td>11778.0</td>\n",
       "      <td>1</td>\n",
       "    </tr>\n",
       "    <tr>\n",
       "      <th>2</th>\n",
       "      <td>0</td>\n",
       "      <td>3</td>\n",
       "      <td>207</td>\n",
       "      <td>75</td>\n",
       "      <td>0</td>\n",
       "      <td>0</td>\n",
       "      <td>0</td>\n",
       "      <td>17134</td>\n",
       "      <td>256</td>\n",
       "      <td>0</td>\n",
       "      <td>1</td>\n",
       "      <td>1.0</td>\n",
       "      <td>1.0</td>\n",
       "      <td>1.0</td>\n",
       "      <td>1.0</td>\n",
       "      <td>0</td>\n",
       "      <td>142.0</td>\n",
       "      <td>33111.0</td>\n",
       "      <td>0</td>\n",
       "    </tr>\n",
       "    <tr>\n",
       "      <th>3</th>\n",
       "      <td>0</td>\n",
       "      <td>3</td>\n",
       "      <td>85</td>\n",
       "      <td>225</td>\n",
       "      <td>0</td>\n",
       "      <td>0</td>\n",
       "      <td>0</td>\n",
       "      <td>17134</td>\n",
       "      <td>256</td>\n",
       "      <td>0</td>\n",
       "      <td>1</td>\n",
       "      <td>1.0</td>\n",
       "      <td>1.0</td>\n",
       "      <td>1.0</td>\n",
       "      <td>1.0</td>\n",
       "      <td>0</td>\n",
       "      <td>355.0</td>\n",
       "      <td>11778.0</td>\n",
       "      <td>1</td>\n",
       "    </tr>\n",
       "    <tr>\n",
       "      <th>4</th>\n",
       "      <td>1</td>\n",
       "      <td>3</td>\n",
       "      <td>158</td>\n",
       "      <td>75</td>\n",
       "      <td>0</td>\n",
       "      <td>0</td>\n",
       "      <td>0</td>\n",
       "      <td>17134</td>\n",
       "      <td>256</td>\n",
       "      <td>0</td>\n",
       "      <td>1</td>\n",
       "      <td>1.0</td>\n",
       "      <td>1.0</td>\n",
       "      <td>1.0</td>\n",
       "      <td>1.0</td>\n",
       "      <td>0</td>\n",
       "      <td>556.0</td>\n",
       "      <td>33108.0</td>\n",
       "      <td>0</td>\n",
       "    </tr>\n",
       "  </tbody>\n",
       "</table>\n",
       "</div>"
      ],
      "text/plain": [
       "   EngineVersion  AppVersion  CountryIdentifier  LocaleEnglishNameIdentifier  \\\n",
       "0              0           3                207                           75   \n",
       "1              0           0                207                           75   \n",
       "2              0           3                207                           75   \n",
       "3              0           3                 85                          225   \n",
       "4              1           3                158                           75   \n",
       "\n",
       "   Platform  Processor  OsVer  OsBuild  OsSuite  OsPlatformSubRelease  \\\n",
       "0         0          0      0    17134      256                     0   \n",
       "1         0          0      0    10586      768                     4   \n",
       "2         0          0      0    17134      256                     0   \n",
       "3         0          0      0    17134      256                     0   \n",
       "4         0          0      0    17134      256                     0   \n",
       "\n",
       "   SkuEdition  IsProtected  SMode  Firewall  UacLuaenable  \\\n",
       "0           1          1.0    1.0       1.0           1.0   \n",
       "1           0          1.0    0.0       1.0           1.0   \n",
       "2           1          1.0    1.0       1.0           1.0   \n",
       "3           1          1.0    1.0       1.0           1.0   \n",
       "4           1          1.0    1.0       1.0           1.0   \n",
       "\n",
       "   Census_DeviceFamily  Census_FirmwareManufacturerIdentifier  \\\n",
       "0                    0                                  355.0   \n",
       "1                    0                                  355.0   \n",
       "2                    0                                  142.0   \n",
       "3                    0                                  355.0   \n",
       "4                    0                                  556.0   \n",
       "\n",
       "   Census_FirmwareVersionIdentifier  Census_IsSecureBootEnabled  \n",
       "0                           33108.0                           0  \n",
       "1                           11778.0                           1  \n",
       "2                           33111.0                           0  \n",
       "3                           11778.0                           1  \n",
       "4                           33108.0                           0  "
      ]
     },
     "execution_count": 9,
     "metadata": {},
     "output_type": "execute_result"
    }
   ],
   "source": [
    "df_test.head()"
   ]
  },
  {
   "cell_type": "code",
   "execution_count": 10,
   "id": "2544190d",
   "metadata": {},
   "outputs": [],
   "source": [
    "from imblearn import over_sampling\n",
    "from imblearn.over_sampling import RandomOverSampler \n",
    "from collections import Counter"
   ]
  },
  {
   "cell_type": "code",
   "execution_count": 11,
   "id": "44916e66",
   "metadata": {},
   "outputs": [
    {
     "data": {
      "text/plain": [
       "[(0, 499307), (1, 500693)]"
      ]
     },
     "execution_count": 11,
     "metadata": {},
     "output_type": "execute_result"
    }
   ],
   "source": [
    "sorted(Counter(df_train['HasDetections']).items())"
   ]
  },
  {
   "cell_type": "code",
   "execution_count": 12,
   "id": "ee77b3e9",
   "metadata": {},
   "outputs": [
    {
     "data": {
      "text/plain": [
       "1    0.500693\n",
       "0    0.499307\n",
       "Name: HasDetections, dtype: float64"
      ]
     },
     "execution_count": 12,
     "metadata": {},
     "output_type": "execute_result"
    }
   ],
   "source": [
    "df_train.HasDetections.value_counts(normalize=True)"
   ]
  },
  {
   "cell_type": "code",
   "execution_count": 13,
   "id": "a8e13f52",
   "metadata": {},
   "outputs": [
    {
     "data": {
      "text/plain": [
       "1    500693\n",
       "0    499307\n",
       "Name: HasDetections, dtype: int64"
      ]
     },
     "execution_count": 13,
     "metadata": {},
     "output_type": "execute_result"
    },
    {
     "data": {
      "image/png": "[encoded data removed]",
      "text/plain": [
       "<Figure size 432x288 with 1 Axes>"
      ]
     },
     "metadata": {
      "needs_background": "light"
     },
     "output_type": "display_data"
    }
   ],
   "source": [
    "pd.value_counts(df_train['HasDetections']).plot.barh()\n",
    "plt.title(\"HasDetections's histogram\")\n",
    "plt.xlabel('HasDetections')\n",
    "plt.ylabel('Frequency')\n",
    "df_train['HasDetections'].value_counts()"
   ]
  },
  {
   "cell_type": "code",
   "execution_count": 14,
   "id": "cb63c281",
   "metadata": {},
   "outputs": [
    {
     "data": {
      "image/png": "[encoded data removed]",
      "text/plain": [
       "<Figure size 720x576 with 1 Axes>"
      ]
     },
     "metadata": {
      "needs_background": "light"
     },
     "output_type": "display_data"
    }
   ],
   "source": [
    "EngineVersion = df_train['EngineVersion'].value_counts()\n",
    "\n",
    "plt.figure(figsize=(10, 8))\n",
    "sns.barplot(x=EngineVersion.tolist(), y=EngineVersion.index, orient='h', palette='mako')\n",
    "plt.title('EngineVersion\\n', fontsize=20)\n",
    "plt.xlabel('Cantidad', fontsize=12)\n",
    "plt.ylabel('Valor', fontsize=12)\n",
    "plt.show()"
   ]
  },
  {
   "cell_type": "code",
   "execution_count": 15,
   "id": "92ebe22d",
   "metadata": {},
   "outputs": [
    {
     "data": {
      "image/png": "[encoded data removed]",
      "text/plain": [
       "<Figure size 720x576 with 1 Axes>"
      ]
     },
     "metadata": {
      "needs_background": "light"
     },
     "output_type": "display_data"
    }
   ],
   "source": [
    "AppVersion = df_train['AppVersion'].value_counts()\n",
    "\n",
    "plt.figure(figsize=(10, 8))\n",
    "sns.barplot(x=AppVersion.tolist(), y=AppVersion.index, orient='h', palette='mako')\n",
    "plt.title('AppVersion\\n', fontsize=20)\n",
    "plt.xlabel('Cantidad', fontsize=12)\n",
    "plt.ylabel('Valor', fontsize=12)\n",
    "plt.show()"
   ]
  },
  {
   "cell_type": "code",
   "execution_count": 16,
   "id": "8c0319c7",
   "metadata": {},
   "outputs": [
    {
     "data": {
      "image/png": "[encoded data removed]",
      "text/plain": [
       "<Figure size 720x576 with 1 Axes>"
      ]
     },
     "metadata": {
      "needs_background": "light"
     },
     "output_type": "display_data"
    }
   ],
   "source": [
    "Platform = df_train['Platform'].value_counts()\n",
    "\n",
    "plt.figure(figsize=(10, 8))\n",
    "sns.barplot(x=Platform.tolist(), y=Platform.index, orient='h', palette='mako')\n",
    "plt.title('Platform\\n', fontsize=20)\n",
    "plt.xlabel('Cantidad', fontsize=12)\n",
    "plt.ylabel('Valor', fontsize=12)\n",
    "plt.show()"
   ]
  },
  {
   "cell_type": "code",
   "execution_count": 17,
   "id": "66744b9e",
   "metadata": {},
   "outputs": [
    {
     "data": {
      "image/png": "[encoded data removed]",
      "text/plain": [
       "<Figure size 720x576 with 1 Axes>"
      ]
     },
     "metadata": {
      "needs_background": "light"
     },
     "output_type": "display_data"
    }
   ],
   "source": [
    "Processor = df_train['Processor'].value_counts()\n",
    "\n",
    "plt.figure(figsize=(10, 8))\n",
    "sns.barplot(x=Processor.tolist(), y=Processor.index, orient='h', palette='mako')\n",
    "plt.title('Processor\\n', fontsize=20)\n",
    "plt.xlabel('Cantidad', fontsize=12)\n",
    "plt.ylabel('Valor', fontsize=12)\n",
    "plt.show()"
   ]
  },
  {
   "cell_type": "code",
   "execution_count": 18,
   "id": "31c2e237",
   "metadata": {},
   "outputs": [
    {
     "name": "stdout",
     "output_type": "stream",
     "text": [
      "<class 'pandas.core.frame.DataFrame'>\n",
      "RangeIndex: 1000000 entries, 0 to 999999\n",
      "Data columns (total 20 columns):\n",
      " #   Column                                 Non-Null Count    Dtype  \n",
      "---  ------                                 --------------    -----  \n",
      " 0   EngineVersion                          1000000 non-null  int64  \n",
      " 1   AppVersion                             1000000 non-null  int64  \n",
      " 2   CountryIdentifier                      1000000 non-null  int64  \n",
      " 3   LocaleEnglishNameIdentifier            1000000 non-null  int64  \n",
      " 4   Platform                               1000000 non-null  int64  \n",
      " 5   Processor                              1000000 non-null  int64  \n",
      " 6   OsVer                                  1000000 non-null  int64  \n",
      " 7   OsBuild                                1000000 non-null  int64  \n",
      " 8   OsSuite                                1000000 non-null  int64  \n",
      " 9   OsPlatformSubRelease                   1000000 non-null  int64  \n",
      " 10  SkuEdition                             1000000 non-null  int64  \n",
      " 11  IsProtected                            1000000 non-null  float64\n",
      " 12  SMode                                  1000000 non-null  float64\n",
      " 13  Firewall                               1000000 non-null  float64\n",
      " 14  UacLuaenable                           1000000 non-null  float64\n",
      " 15  Census_DeviceFamily                    1000000 non-null  int64  \n",
      " 16  Census_FirmwareManufacturerIdentifier  1000000 non-null  float64\n",
      " 17  Census_FirmwareVersionIdentifier       1000000 non-null  float64\n",
      " 18  Census_IsSecureBootEnabled             1000000 non-null  int64  \n",
      " 19  HasDetections                          1000000 non-null  int64  \n",
      "dtypes: float64(6), int64(14)\n",
      "memory usage: 152.6 MB\n"
     ]
    }
   ],
   "source": [
    "df_train.info()"
   ]
  },
  {
   "cell_type": "code",
   "execution_count": 19,
   "id": "825273db",
   "metadata": {},
   "outputs": [],
   "source": [
    "X_train = df_train\n",
    "Y_train = df_train[['HasDetections']]\n",
    "X_train = X_train.drop(['HasDetections'], axis=1)"
   ]
  },
  {
   "cell_type": "code",
   "execution_count": 20,
   "id": "909a19c8",
   "metadata": {},
   "outputs": [
    {
     "data": {
      "text/plain": [
       "HasDetections\n",
       "1                500693\n",
       "0                499307\n",
       "dtype: int64"
      ]
     },
     "execution_count": 20,
     "metadata": {},
     "output_type": "execute_result"
    }
   ],
   "source": [
    "Y_train.value_counts()"
   ]
  },
  {
   "cell_type": "code",
   "execution_count": 21,
   "id": "d6d035a0",
   "metadata": {},
   "outputs": [
    {
     "data": {
      "text/plain": [
       "((1000000, 19), (1000000, 1))"
      ]
     },
     "execution_count": 21,
     "metadata": {},
     "output_type": "execute_result"
    }
   ],
   "source": [
    "X_train.shape, Y_train.shape"
   ]
  },
  {
   "cell_type": "code",
   "execution_count": 22,
   "id": "87e24569",
   "metadata": {},
   "outputs": [],
   "source": [
    "ros = RandomOverSampler(random_state=5)\n",
    "X_resample_train, Y_resample_train = ros.fit_resample(X_train, Y_train)"
   ]
  },
  {
   "cell_type": "code",
   "execution_count": 23,
   "id": "22672fbb",
   "metadata": {},
   "outputs": [
    {
     "data": {
      "text/html": [
       "<div>\n",
       "<style scoped>\n",
       "    .dataframe tbody tr th:only-of-type {\n",
       "        vertical-align: middle;\n",
       "    }\n",
       "\n",
       "    .dataframe tbody tr th {\n",
       "        vertical-align: top;\n",
       "    }\n",
       "\n",
       "    .dataframe thead th {\n",
       "        text-align: right;\n",
       "    }\n",
       "</style>\n",
       "<table border=\"1\" class=\"dataframe\">\n",
       "  <thead>\n",
       "    <tr style=\"text-align: right;\">\n",
       "      <th></th>\n",
       "      <th>EngineVersion</th>\n",
       "      <th>AppVersion</th>\n",
       "      <th>CountryIdentifier</th>\n",
       "      <th>LocaleEnglishNameIdentifier</th>\n",
       "      <th>Platform</th>\n",
       "      <th>Processor</th>\n",
       "      <th>OsVer</th>\n",
       "      <th>OsBuild</th>\n",
       "      <th>OsSuite</th>\n",
       "      <th>OsPlatformSubRelease</th>\n",
       "      <th>SkuEdition</th>\n",
       "      <th>IsProtected</th>\n",
       "      <th>SMode</th>\n",
       "      <th>Firewall</th>\n",
       "      <th>UacLuaenable</th>\n",
       "      <th>Census_DeviceFamily</th>\n",
       "      <th>Census_FirmwareManufacturerIdentifier</th>\n",
       "      <th>Census_FirmwareVersionIdentifier</th>\n",
       "      <th>Census_IsSecureBootEnabled</th>\n",
       "    </tr>\n",
       "  </thead>\n",
       "  <tbody>\n",
       "    <tr>\n",
       "      <th>736051</th>\n",
       "      <td>0</td>\n",
       "      <td>3</td>\n",
       "      <td>141</td>\n",
       "      <td>227</td>\n",
       "      <td>1</td>\n",
       "      <td>0</td>\n",
       "      <td>1</td>\n",
       "      <td>9600</td>\n",
       "      <td>768</td>\n",
       "      <td>6</td>\n",
       "      <td>0</td>\n",
       "      <td>1.0</td>\n",
       "      <td>0.0</td>\n",
       "      <td>1.0</td>\n",
       "      <td>1.0</td>\n",
       "      <td>0</td>\n",
       "      <td>554.0</td>\n",
       "      <td>33054.0</td>\n",
       "      <td>1</td>\n",
       "    </tr>\n",
       "    <tr>\n",
       "      <th>487716</th>\n",
       "      <td>1</td>\n",
       "      <td>0</td>\n",
       "      <td>93</td>\n",
       "      <td>74</td>\n",
       "      <td>0</td>\n",
       "      <td>0</td>\n",
       "      <td>0</td>\n",
       "      <td>17134</td>\n",
       "      <td>768</td>\n",
       "      <td>0</td>\n",
       "      <td>0</td>\n",
       "      <td>1.0</td>\n",
       "      <td>0.0</td>\n",
       "      <td>1.0</td>\n",
       "      <td>1.0</td>\n",
       "      <td>0</td>\n",
       "      <td>142.0</td>\n",
       "      <td>33105.0</td>\n",
       "      <td>0</td>\n",
       "    </tr>\n",
       "    <tr>\n",
       "      <th>933911</th>\n",
       "      <td>0</td>\n",
       "      <td>0</td>\n",
       "      <td>166</td>\n",
       "      <td>230</td>\n",
       "      <td>0</td>\n",
       "      <td>0</td>\n",
       "      <td>0</td>\n",
       "      <td>15063</td>\n",
       "      <td>768</td>\n",
       "      <td>2</td>\n",
       "      <td>0</td>\n",
       "      <td>1.0</td>\n",
       "      <td>0.0</td>\n",
       "      <td>1.0</td>\n",
       "      <td>1.0</td>\n",
       "      <td>0</td>\n",
       "      <td>554.0</td>\n",
       "      <td>33105.0</td>\n",
       "      <td>1</td>\n",
       "    </tr>\n",
       "    <tr>\n",
       "      <th>429921</th>\n",
       "      <td>1</td>\n",
       "      <td>0</td>\n",
       "      <td>169</td>\n",
       "      <td>179</td>\n",
       "      <td>0</td>\n",
       "      <td>0</td>\n",
       "      <td>0</td>\n",
       "      <td>15063</td>\n",
       "      <td>768</td>\n",
       "      <td>2</td>\n",
       "      <td>0</td>\n",
       "      <td>1.0</td>\n",
       "      <td>0.0</td>\n",
       "      <td>1.0</td>\n",
       "      <td>1.0</td>\n",
       "      <td>0</td>\n",
       "      <td>142.0</td>\n",
       "      <td>33111.0</td>\n",
       "      <td>0</td>\n",
       "    </tr>\n",
       "    <tr>\n",
       "      <th>350513</th>\n",
       "      <td>0</td>\n",
       "      <td>0</td>\n",
       "      <td>6</td>\n",
       "      <td>75</td>\n",
       "      <td>0</td>\n",
       "      <td>1</td>\n",
       "      <td>0</td>\n",
       "      <td>16299</td>\n",
       "      <td>768</td>\n",
       "      <td>1</td>\n",
       "      <td>0</td>\n",
       "      <td>1.0</td>\n",
       "      <td>0.0</td>\n",
       "      <td>1.0</td>\n",
       "      <td>1.0</td>\n",
       "      <td>0</td>\n",
       "      <td>142.0</td>\n",
       "      <td>33108.0</td>\n",
       "      <td>1</td>\n",
       "    </tr>\n",
       "    <tr>\n",
       "      <th>...</th>\n",
       "      <td>...</td>\n",
       "      <td>...</td>\n",
       "      <td>...</td>\n",
       "      <td>...</td>\n",
       "      <td>...</td>\n",
       "      <td>...</td>\n",
       "      <td>...</td>\n",
       "      <td>...</td>\n",
       "      <td>...</td>\n",
       "      <td>...</td>\n",
       "      <td>...</td>\n",
       "      <td>...</td>\n",
       "      <td>...</td>\n",
       "      <td>...</td>\n",
       "      <td>...</td>\n",
       "      <td>...</td>\n",
       "      <td>...</td>\n",
       "      <td>...</td>\n",
       "      <td>...</td>\n",
       "    </tr>\n",
       "    <tr>\n",
       "      <th>626503</th>\n",
       "      <td>1</td>\n",
       "      <td>0</td>\n",
       "      <td>150</td>\n",
       "      <td>162</td>\n",
       "      <td>0</td>\n",
       "      <td>0</td>\n",
       "      <td>0</td>\n",
       "      <td>17134</td>\n",
       "      <td>768</td>\n",
       "      <td>0</td>\n",
       "      <td>0</td>\n",
       "      <td>1.0</td>\n",
       "      <td>0.0</td>\n",
       "      <td>1.0</td>\n",
       "      <td>1.0</td>\n",
       "      <td>0</td>\n",
       "      <td>142.0</td>\n",
       "      <td>33105.0</td>\n",
       "      <td>1</td>\n",
       "    </tr>\n",
       "    <tr>\n",
       "      <th>439053</th>\n",
       "      <td>1</td>\n",
       "      <td>0</td>\n",
       "      <td>93</td>\n",
       "      <td>75</td>\n",
       "      <td>0</td>\n",
       "      <td>0</td>\n",
       "      <td>0</td>\n",
       "      <td>16299</td>\n",
       "      <td>256</td>\n",
       "      <td>1</td>\n",
       "      <td>1</td>\n",
       "      <td>1.0</td>\n",
       "      <td>0.0</td>\n",
       "      <td>1.0</td>\n",
       "      <td>1.0</td>\n",
       "      <td>0</td>\n",
       "      <td>628.0</td>\n",
       "      <td>33108.0</td>\n",
       "      <td>0</td>\n",
       "    </tr>\n",
       "    <tr>\n",
       "      <th>333126</th>\n",
       "      <td>0</td>\n",
       "      <td>0</td>\n",
       "      <td>151</td>\n",
       "      <td>75</td>\n",
       "      <td>0</td>\n",
       "      <td>0</td>\n",
       "      <td>0</td>\n",
       "      <td>17134</td>\n",
       "      <td>256</td>\n",
       "      <td>0</td>\n",
       "      <td>1</td>\n",
       "      <td>1.0</td>\n",
       "      <td>0.0</td>\n",
       "      <td>1.0</td>\n",
       "      <td>1.0</td>\n",
       "      <td>0</td>\n",
       "      <td>142.0</td>\n",
       "      <td>33108.0</td>\n",
       "      <td>0</td>\n",
       "    </tr>\n",
       "    <tr>\n",
       "      <th>618449</th>\n",
       "      <td>0</td>\n",
       "      <td>0</td>\n",
       "      <td>195</td>\n",
       "      <td>42</td>\n",
       "      <td>0</td>\n",
       "      <td>0</td>\n",
       "      <td>0</td>\n",
       "      <td>10586</td>\n",
       "      <td>768</td>\n",
       "      <td>4</td>\n",
       "      <td>0</td>\n",
       "      <td>1.0</td>\n",
       "      <td>0.0</td>\n",
       "      <td>1.0</td>\n",
       "      <td>1.0</td>\n",
       "      <td>0</td>\n",
       "      <td>142.0</td>\n",
       "      <td>33054.0</td>\n",
       "      <td>1</td>\n",
       "    </tr>\n",
       "    <tr>\n",
       "      <th>523708</th>\n",
       "      <td>0</td>\n",
       "      <td>0</td>\n",
       "      <td>169</td>\n",
       "      <td>75</td>\n",
       "      <td>0</td>\n",
       "      <td>0</td>\n",
       "      <td>0</td>\n",
       "      <td>17134</td>\n",
       "      <td>256</td>\n",
       "      <td>0</td>\n",
       "      <td>1</td>\n",
       "      <td>1.0</td>\n",
       "      <td>0.0</td>\n",
       "      <td>1.0</td>\n",
       "      <td>1.0</td>\n",
       "      <td>0</td>\n",
       "      <td>628.0</td>\n",
       "      <td>33111.0</td>\n",
       "      <td>0</td>\n",
       "    </tr>\n",
       "  </tbody>\n",
       "</table>\n",
       "<p>1000000 rows × 19 columns</p>\n",
       "</div>"
      ],
      "text/plain": [
       "        EngineVersion  AppVersion  CountryIdentifier  \\\n",
       "736051              0           3                141   \n",
       "487716              1           0                 93   \n",
       "933911              0           0                166   \n",
       "429921              1           0                169   \n",
       "350513              0           0                  6   \n",
       "...               ...         ...                ...   \n",
       "626503              1           0                150   \n",
       "439053              1           0                 93   \n",
       "333126              0           0                151   \n",
       "618449              0           0                195   \n",
       "523708              0           0                169   \n",
       "\n",
       "        LocaleEnglishNameIdentifier  Platform  Processor  OsVer  OsBuild  \\\n",
       "736051                          227         1          0      1     9600   \n",
       "487716                           74         0          0      0    17134   \n",
       "933911                          230         0          0      0    15063   \n",
       "429921                          179         0          0      0    15063   \n",
       "350513                           75         0          1      0    16299   \n",
       "...                             ...       ...        ...    ...      ...   \n",
       "626503                          162         0          0      0    17134   \n",
       "439053                           75         0          0      0    16299   \n",
       "333126                           75         0          0      0    17134   \n",
       "618449                           42         0          0      0    10586   \n",
       "523708                           75         0          0      0    17134   \n",
       "\n",
       "        OsSuite  OsPlatformSubRelease  SkuEdition  IsProtected  SMode  \\\n",
       "736051      768                     6           0          1.0    0.0   \n",
       "487716      768                     0           0          1.0    0.0   \n",
       "933911      768                     2           0          1.0    0.0   \n",
       "429921      768                     2           0          1.0    0.0   \n",
       "350513      768                     1           0          1.0    0.0   \n",
       "...         ...                   ...         ...          ...    ...   \n",
       "626503      768                     0           0          1.0    0.0   \n",
       "439053      256                     1           1          1.0    0.0   \n",
       "333126      256                     0           1          1.0    0.0   \n",
       "618449      768                     4           0          1.0    0.0   \n",
       "523708      256                     0           1          1.0    0.0   \n",
       "\n",
       "        Firewall  UacLuaenable  Census_DeviceFamily  \\\n",
       "736051       1.0           1.0                    0   \n",
       "487716       1.0           1.0                    0   \n",
       "933911       1.0           1.0                    0   \n",
       "429921       1.0           1.0                    0   \n",
       "350513       1.0           1.0                    0   \n",
       "...          ...           ...                  ...   \n",
       "626503       1.0           1.0                    0   \n",
       "439053       1.0           1.0                    0   \n",
       "333126       1.0           1.0                    0   \n",
       "618449       1.0           1.0                    0   \n",
       "523708       1.0           1.0                    0   \n",
       "\n",
       "        Census_FirmwareManufacturerIdentifier  \\\n",
       "736051                                  554.0   \n",
       "487716                                  142.0   \n",
       "933911                                  554.0   \n",
       "429921                                  142.0   \n",
       "350513                                  142.0   \n",
       "...                                       ...   \n",
       "626503                                  142.0   \n",
       "439053                                  628.0   \n",
       "333126                                  142.0   \n",
       "618449                                  142.0   \n",
       "523708                                  628.0   \n",
       "\n",
       "        Census_FirmwareVersionIdentifier  Census_IsSecureBootEnabled  \n",
       "736051                           33054.0                           1  \n",
       "487716                           33105.0                           0  \n",
       "933911                           33105.0                           1  \n",
       "429921                           33111.0                           0  \n",
       "350513                           33108.0                           1  \n",
       "...                                  ...                         ...  \n",
       "626503                           33105.0                           1  \n",
       "439053                           33108.0                           0  \n",
       "333126                           33108.0                           0  \n",
       "618449                           33054.0                           1  \n",
       "523708                           33111.0                           0  \n",
       "\n",
       "[1000000 rows x 19 columns]"
      ]
     },
     "execution_count": 23,
     "metadata": {},
     "output_type": "execute_result"
    }
   ],
   "source": [
    "X_resample_train = X_resample_train.sample(n = 1000000)\n",
    "X_resample_train"
   ]
  },
  {
   "cell_type": "code",
   "execution_count": 24,
   "id": "3f4bc5e6",
   "metadata": {},
   "outputs": [
    {
     "data": {
      "text/plain": [
       "HasDetections\n",
       "0                500000\n",
       "1                500000\n",
       "dtype: int64"
      ]
     },
     "execution_count": 24,
     "metadata": {},
     "output_type": "execute_result"
    }
   ],
   "source": [
    "Y_resample_train = Y_resample_train.groupby(\"HasDetections\").sample(n=500000, random_state=1)\n",
    "Y_resample_train.value_counts()"
   ]
  },
  {
   "cell_type": "code",
   "execution_count": 25,
   "id": "4d2934e0",
   "metadata": {},
   "outputs": [],
   "source": [
    "X_test = df_test"
   ]
  },
  {
   "cell_type": "code",
   "execution_count": 26,
   "id": "74b6a797",
   "metadata": {},
   "outputs": [
    {
     "data": {
      "text/plain": [
       "((1000000, 19), (1000000, 1), (1000000, 19))"
      ]
     },
     "execution_count": 26,
     "metadata": {},
     "output_type": "execute_result"
    }
   ],
   "source": [
    "X_resample_train.shape, Y_resample_train.shape, X_test.shape"
   ]
  },
  {
   "cell_type": "code",
   "execution_count": 27,
   "id": "b2ad5270",
   "metadata": {},
   "outputs": [],
   "source": [
    "X_resample_trainLR = X_resample_train\n",
    "Y_resample_trainLR = Y_resample_train\n",
    "X_testLR = X_test"
   ]
  },
  {
   "cell_type": "code",
   "execution_count": 28,
   "id": "3d7591c3",
   "metadata": {},
   "outputs": [],
   "source": [
    "target_names=[0, 1]\n",
    "target_names=list(map(str,target_names))"
   ]
  },
  {
   "cell_type": "code",
   "execution_count": 29,
   "id": "6146a3ee",
   "metadata": {},
   "outputs": [],
   "source": [
    "from sklearn.metrics import accuracy_score, confusion_matrix, classification_report"
   ]
  },
  {
   "cell_type": "code",
   "execution_count": 30,
   "id": "323a691c",
   "metadata": {},
   "outputs": [],
   "source": [
    "from sklearn.metrics import roc_curve, auc, roc_auc_score, plot_roc_curve\n",
    "from sklearn.linear_model import LogisticRegression\n",
    "from sklearn.model_selection import cross_val_score\n",
    "from sklearn.model_selection import RepeatedStratifiedKFold\n",
    "from numpy import mean, std"
   ]
  },
  {
   "cell_type": "code",
   "execution_count": 31,
   "id": "3e06fda5",
   "metadata": {},
   "outputs": [],
   "source": [
    "lr = LogisticRegression(multi_class='multinomial', solver='lbfgs')"
   ]
  },
  {
   "cell_type": "code",
   "execution_count": 32,
   "id": "36cacd5b",
   "metadata": {},
   "outputs": [
    {
     "name": "stderr",
     "output_type": "stream",
     "text": [
      "/Library/Frameworks/Python.framework/Versions/3.9/lib/python3.9/site-packages/sklearn/utils/validation.py:993: DataConversionWarning: A column-vector y was passed when a 1d array was expected. Please change the shape of y to (n_samples, ), for example using ravel().\n",
      "  y = column_or_1d(y, warn=True)\n"
     ]
    },
    {
     "data": {
      "text/plain": [
       "LogisticRegression(multi_class='multinomial')"
      ]
     },
     "execution_count": 32,
     "metadata": {},
     "output_type": "execute_result"
    }
   ],
   "source": [
    "lr.fit(X_resample_trainLR, Y_resample_trainLR)"
   ]
  },
  {
   "cell_type": "code",
   "execution_count": 33,
   "id": "fd2e1413",
   "metadata": {},
   "outputs": [],
   "source": [
    "target_predictionLR = lr.predict(X_testLR)\n",
    "y_prob_predLR = lr.predict_proba(X_testLR)"
   ]
  },
  {
   "cell_type": "code",
   "execution_count": 34,
   "id": "538a293e",
   "metadata": {},
   "outputs": [
    {
     "data": {
      "text/plain": [
       "0.500311"
      ]
     },
     "execution_count": 34,
     "metadata": {},
     "output_type": "execute_result"
    }
   ],
   "source": [
    "accuracy_score(Y_resample_trainLR, target_predictionLR)"
   ]
  },
  {
   "cell_type": "code",
   "execution_count": 35,
   "id": "f7400f2e",
   "metadata": {},
   "outputs": [
    {
     "data": {
      "text/plain": [
       "array([[255727, 244273],\n",
       "       [255416, 244584]])"
      ]
     },
     "execution_count": 35,
     "metadata": {},
     "output_type": "execute_result"
    }
   ],
   "source": [
    "confusion_matrix(Y_resample_trainLR, target_predictionLR)"
   ]
  },
  {
   "cell_type": "code",
   "execution_count": 36,
   "id": "816262d7",
   "metadata": {},
   "outputs": [
    {
     "name": "stdout",
     "output_type": "stream",
     "text": [
      "              precision    recall  f1-score   support\n",
      "\n",
      "           0       0.50      0.51      0.51    500000\n",
      "           1       0.50      0.49      0.49    500000\n",
      "\n",
      "    accuracy                           0.50   1000000\n",
      "   macro avg       0.50      0.50      0.50   1000000\n",
      "weighted avg       0.50      0.50      0.50   1000000\n",
      "\n"
     ]
    }
   ],
   "source": [
    "print(classification_report(Y_resample_trainLR, target_predictionLR, target_names=target_names))"
   ]
  },
  {
   "cell_type": "code",
   "execution_count": 37,
   "id": "69655006",
   "metadata": {},
   "outputs": [],
   "source": [
    "cv = RepeatedStratifiedKFold(n_splits=10, n_repeats=4, random_state=1)"
   ]
  },
  {
   "cell_type": "code",
   "execution_count": 38,
   "id": "cbc1a40c",
   "metadata": {},
   "outputs": [],
   "source": [
    "n_scoresLR = cross_val_score(lr, Y_resample_trainLR, target_predictionLR, scoring='accuracy', \n",
    "                           cv=cv, n_jobs=-1)"
   ]
  },
  {
   "cell_type": "code",
   "execution_count": 39,
   "id": "b3da8c3a",
   "metadata": {},
   "outputs": [
    {
     "name": "stdout",
     "output_type": "stream",
     "text": [
      "Mean Accuracy: 0.511 (0.000)\n"
     ]
    }
   ],
   "source": [
    "print('Mean Accuracy: %.3f (%.3f)' % (mean(n_scoresLR), std(n_scoresLR)))"
   ]
  },
  {
   "cell_type": "code",
   "execution_count": 40,
   "id": "21163a2c",
   "metadata": {},
   "outputs": [
    {
     "data": {
      "text/plain": [
       "<matplotlib.legend.Legend at 0x133a6d460>"
      ]
     },
     "execution_count": 40,
     "metadata": {},
     "output_type": "execute_result"
    },
    {
     "data": {
      "image/png": "[encoded data removed]",
      "text/plain": [
       "<Figure size 432x288 with 1 Axes>"
      ]
     },
     "metadata": {
      "needs_background": "light"
     },
     "output_type": "display_data"
    }
   ],
   "source": [
    "# roc curve for classes\n",
    "fpr = {}\n",
    "tpr = {}\n",
    "thresh ={}\n",
    "\n",
    "n_class = 2\n",
    "\n",
    "for i in range(n_class):    \n",
    "    fpr[i], tpr[i], thresh[i] = roc_curve(Y_resample_trainLR, y_prob_predLR[:, i], pos_label=i)\n",
    "    \n",
    "# plotting    \n",
    "plt.plot(fpr[0], tpr[0], linestyle='--',color='orange', label='Class 0 vs Result')\n",
    "plt.plot(fpr[1], tpr[1], linestyle='--',color='green', label='Class 1 vs Result')\n",
    "plt.title('ROC curve')\n",
    "plt.xlabel('False Positive Rate')\n",
    "plt.ylabel('True Positive rate')\n",
    "plt.legend(loc='best')"
   ]
  },
  {
   "cell_type": "code",
   "execution_count": 41,
   "id": "004194be",
   "metadata": {},
   "outputs": [],
   "source": [
    "X_resample_trainRF = X_resample_train\n",
    "Y_resample_trainRF = Y_resample_train\n",
    "X_testRF = X_test"
   ]
  },
  {
   "cell_type": "code",
   "execution_count": 42,
   "id": "791c4762",
   "metadata": {},
   "outputs": [],
   "source": [
    "from sklearn.tree import DecisionTreeClassifier"
   ]
  },
  {
   "cell_type": "code",
   "execution_count": 43,
   "id": "0d5b6074",
   "metadata": {},
   "outputs": [
    {
     "data": {
      "text/plain": [
       "DecisionTreeClassifier()"
      ]
     },
     "execution_count": 43,
     "metadata": {},
     "output_type": "execute_result"
    }
   ],
   "source": [
    "dTree = DecisionTreeClassifier()\n",
    "dTree.fit(X_resample_trainRF, Y_resample_trainRF)"
   ]
  },
  {
   "cell_type": "code",
   "execution_count": 44,
   "id": "92d21cc7",
   "metadata": {},
   "outputs": [],
   "source": [
    "target_predictionRF = dTree.predict(X_testRF)\n",
    "y_prob_predRF = dTree.predict_proba(X_testRF)"
   ]
  },
  {
   "cell_type": "code",
   "execution_count": 45,
   "id": "303b60ab",
   "metadata": {},
   "outputs": [
    {
     "data": {
      "text/plain": [
       "0.497767"
      ]
     },
     "execution_count": 45,
     "metadata": {},
     "output_type": "execute_result"
    }
   ],
   "source": [
    "accuracy_score(Y_resample_trainRF, target_predictionRF)"
   ]
  },
  {
   "cell_type": "code",
   "execution_count": 46,
   "id": "db12a368",
   "metadata": {},
   "outputs": [
    {
     "data": {
      "text/plain": [
       "array([[264178, 235822],\n",
       "       [266411, 233589]])"
      ]
     },
     "execution_count": 46,
     "metadata": {},
     "output_type": "execute_result"
    }
   ],
   "source": [
    "confusion_matrix(Y_resample_trainRF, target_predictionRF)"
   ]
  },
  {
   "cell_type": "code",
   "execution_count": 47,
   "id": "9723a7e6",
   "metadata": {},
   "outputs": [
    {
     "name": "stdout",
     "output_type": "stream",
     "text": [
      "              precision    recall  f1-score   support\n",
      "\n",
      "           0       0.50      0.53      0.51    500000\n",
      "           1       0.50      0.47      0.48    500000\n",
      "\n",
      "    accuracy                           0.50   1000000\n",
      "   macro avg       0.50      0.50      0.50   1000000\n",
      "weighted avg       0.50      0.50      0.50   1000000\n",
      "\n"
     ]
    }
   ],
   "source": [
    "print(classification_report(Y_resample_trainRF, target_predictionRF, target_names=target_names))"
   ]
  },
  {
   "cell_type": "code",
   "execution_count": 48,
   "id": "9dbee4cd",
   "metadata": {},
   "outputs": [],
   "source": [
    "cv = RepeatedStratifiedKFold(n_splits=10, n_repeats=4, random_state=1)"
   ]
  },
  {
   "cell_type": "code",
   "execution_count": 49,
   "id": "28be3e6b",
   "metadata": {},
   "outputs": [],
   "source": [
    "n_scoresRF = cross_val_score(dTree, Y_resample_trainRF, target_predictionRF, scoring='accuracy', \n",
    "                           cv=cv, n_jobs=-1)"
   ]
  },
  {
   "cell_type": "code",
   "execution_count": 50,
   "id": "cd6628dc",
   "metadata": {},
   "outputs": [
    {
     "name": "stdout",
     "output_type": "stream",
     "text": [
      "Mean Accuracy: 0.531 (0.000)\n"
     ]
    }
   ],
   "source": [
    "print('Mean Accuracy: %.3f (%.3f)' % (mean(n_scoresRF), std(n_scoresRF)))"
   ]
  },
  {
   "cell_type": "code",
   "execution_count": 51,
   "id": "220177f8",
   "metadata": {},
   "outputs": [
    {
     "data": {
      "text/plain": [
       "<matplotlib.legend.Legend at 0x13423f490>"
      ]
     },
     "execution_count": 51,
     "metadata": {},
     "output_type": "execute_result"
    },
    {
     "data": {
      "image/png": "[encoded data removed]",
      "text/plain": [
       "<Figure size 432x288 with 1 Axes>"
      ]
     },
     "metadata": {
      "needs_background": "light"
     },
     "output_type": "display_data"
    }
   ],
   "source": [
    "# roc curve for classes\n",
    "fpr = {}\n",
    "tpr = {}\n",
    "thresh ={}\n",
    "\n",
    "n_class = 2\n",
    "\n",
    "for i in range(n_class):    \n",
    "    fpr[i], tpr[i], thresh[i] = roc_curve(Y_resample_trainRF, y_prob_predRF[:, i], pos_label=i)\n",
    "    \n",
    "# plotting    \n",
    "plt.plot(fpr[0], tpr[0], linestyle='--',color='orange', label='Class 0 vs Result')\n",
    "plt.plot(fpr[1], tpr[1], linestyle='--',color='green', label='Class 1 vs Result')\n",
    "plt.title('ROC curve')\n",
    "plt.xlabel('False Positive Rate')\n",
    "plt.ylabel('True Positive rate')\n",
    "plt.legend(loc='best')"
   ]
  },
  {
   "cell_type": "code",
   "execution_count": 52,
   "id": "37f61f92",
   "metadata": {},
   "outputs": [
    {
     "name": "stdout",
     "output_type": "stream",
     "text": [
      "<class 'pandas.core.frame.DataFrame'>\n",
      "RangeIndex: 1000000 entries, 0 to 999999\n",
      "Data columns (total 20 columns):\n",
      " #   Column                                 Non-Null Count    Dtype  \n",
      "---  ------                                 --------------    -----  \n",
      " 0   EngineVersion                          1000000 non-null  int64  \n",
      " 1   AppVersion                             1000000 non-null  int64  \n",
      " 2   CountryIdentifier                      1000000 non-null  int64  \n",
      " 3   LocaleEnglishNameIdentifier            1000000 non-null  int64  \n",
      " 4   Platform                               1000000 non-null  int64  \n",
      " 5   Processor                              1000000 non-null  int64  \n",
      " 6   OsVer                                  1000000 non-null  int64  \n",
      " 7   OsBuild                                1000000 non-null  int64  \n",
      " 8   OsSuite                                1000000 non-null  int64  \n",
      " 9   OsPlatformSubRelease                   1000000 non-null  int64  \n",
      " 10  SkuEdition                             1000000 non-null  int64  \n",
      " 11  IsProtected                            1000000 non-null  float64\n",
      " 12  SMode                                  1000000 non-null  float64\n",
      " 13  Firewall                               1000000 non-null  float64\n",
      " 14  UacLuaenable                           1000000 non-null  float64\n",
      " 15  Census_DeviceFamily                    1000000 non-null  int64  \n",
      " 16  Census_FirmwareManufacturerIdentifier  1000000 non-null  float64\n",
      " 17  Census_FirmwareVersionIdentifier       1000000 non-null  float64\n",
      " 18  Census_IsSecureBootEnabled             1000000 non-null  int64  \n",
      " 19  HasDetections                          1000000 non-null  int64  \n",
      "dtypes: float64(6), int64(14)\n",
      "memory usage: 152.6 MB\n"
     ]
    }
   ],
   "source": [
    "df_train.info()"
   ]
  }
 ],
 "metadata": {
  "kernelspec": {
   "display_name": "Python 3 (ipykernel)",
   "language": "python",
   "name": "python3"
  },
  "language_info": {
   "codemirror_mode": {
    "name": "ipython",
    "version": 3
   },
   "file_extension": ".py",
   "mimetype": "text/x-python",
   "name": "python",
   "nbconvert_exporter": "python",
   "pygments_lexer": "ipython3",
   "version": "3.9.6"
  }
 },
 "nbformat": 4,
 "nbformat_minor": 5
}
