{
 "cells": [
  {
   "cell_type": "markdown",
   "id": "1e79c43f",
   "metadata": {},
   "source": [
    "# Proyecto # 2\n",
    "Cristina Bautista - 161260\n",
    "\n",
    "Abril Palencia - 18198 "
   ]
  },
  {
   "cell_type": "code",
   "execution_count": 1,
   "id": "45d6a074",
   "metadata": {},
   "outputs": [],
   "source": [
    "import pandas as pd\n",
    "import numpy as np\n",
    "import matplotlib.pyplot as plt\n",
    "import seaborn as sns\n",
    "import re\n",
    "import random\n",
    "\n",
    "%matplotlib inline"
   ]
  },
  {
   "cell_type": "code",
   "execution_count": 2,
   "id": "1179a66d",
   "metadata": {},
   "outputs": [],
   "source": [
    "df = pd.read_csv('sample_train.csv')"
   ]
  },
  {
   "cell_type": "code",
   "execution_count": 3,
   "id": "32b3e453",
   "metadata": {},
   "outputs": [
    {
     "name": "stdout",
     "output_type": "stream",
     "text": [
      "<class 'pandas.core.frame.DataFrame'>\n",
      "RangeIndex: 1000000 entries, 0 to 999999\n",
      "Data columns (total 22 columns):\n",
      " #   Column                                 Non-Null Count    Dtype  \n",
      "---  ------                                 --------------    -----  \n",
      " 0   Unnamed: 0                             1000000 non-null  int64  \n",
      " 1   EngineVersion                          1000000 non-null  object \n",
      " 2   AppVersion                             1000000 non-null  object \n",
      " 3   AvSigVersion                           1000000 non-null  object \n",
      " 4   CountryIdentifier                      1000000 non-null  int64  \n",
      " 5   LocaleEnglishNameIdentifier            1000000 non-null  int64  \n",
      " 6   Platform                               1000000 non-null  object \n",
      " 7   Processor                              1000000 non-null  object \n",
      " 8   OsVer                                  1000000 non-null  object \n",
      " 9   OsBuild                                1000000 non-null  int64  \n",
      " 10  OsSuite                                1000000 non-null  int64  \n",
      " 11  OsPlatformSubRelease                   1000000 non-null  object \n",
      " 12  SkuEdition                             1000000 non-null  object \n",
      " 13  IsProtected                            995922 non-null   float64\n",
      " 14  SMode                                  939836 non-null   float64\n",
      " 15  Firewall                               989852 non-null   float64\n",
      " 16  UacLuaenable                           998793 non-null   float64\n",
      " 17  Census_DeviceFamily                    1000000 non-null  object \n",
      " 18  Census_FirmwareManufacturerIdentifier  979427 non-null   float64\n",
      " 19  Census_FirmwareVersionIdentifier       981948 non-null   float64\n",
      " 20  Census_IsSecureBootEnabled             1000000 non-null  int64  \n",
      " 21  HasDetections                          1000000 non-null  int64  \n",
      "dtypes: float64(6), int64(7), object(9)\n",
      "memory usage: 167.8+ MB\n"
     ]
    }
   ],
   "source": [
    "df.info()"
   ]
  },
  {
   "cell_type": "code",
   "execution_count": 4,
   "id": "8d1279ca",
   "metadata": {},
   "outputs": [],
   "source": [
    "df = df.drop(labels=[\"AvSigVersion\", \"Unnamed: 0\"], axis=1)"
   ]
  },
  {
   "cell_type": "code",
   "execution_count": 5,
   "id": "983f6640",
   "metadata": {},
   "outputs": [
    {
     "data": {
      "text/plain": [
       "EngineVersion                                0\n",
       "AppVersion                                   0\n",
       "CountryIdentifier                            0\n",
       "LocaleEnglishNameIdentifier                  0\n",
       "Platform                                     0\n",
       "Processor                                    0\n",
       "OsVer                                        0\n",
       "OsBuild                                      0\n",
       "OsSuite                                      0\n",
       "OsPlatformSubRelease                         0\n",
       "SkuEdition                                   0\n",
       "IsProtected                               4078\n",
       "SMode                                    60164\n",
       "Firewall                                 10148\n",
       "UacLuaenable                              1207\n",
       "Census_DeviceFamily                          0\n",
       "Census_FirmwareManufacturerIdentifier    20573\n",
       "Census_FirmwareVersionIdentifier         18052\n",
       "Census_IsSecureBootEnabled                   0\n",
       "HasDetections                                0\n",
       "dtype: int64"
      ]
     },
     "execution_count": 5,
     "metadata": {},
     "output_type": "execute_result"
    }
   ],
   "source": [
    "df.isna().sum()"
   ]
  },
  {
   "cell_type": "code",
   "execution_count": 6,
   "id": "98627945",
   "metadata": {},
   "outputs": [
    {
     "data": {
      "text/plain": [
       "33105.0    10052\n",
       "33111.0     6927\n",
       "33054.0     6275\n",
       "33108.0     6194\n",
       "11778.0     6035\n",
       "           ...  \n",
       "322.0          1\n",
       "52426.0        1\n",
       "68774.0        1\n",
       "67472.0        1\n",
       "65409.0        1\n",
       "Name: Census_FirmwareVersionIdentifier, Length: 29056, dtype: int64"
      ]
     },
     "execution_count": 6,
     "metadata": {},
     "output_type": "execute_result"
    }
   ],
   "source": [
    "df.Census_FirmwareVersionIdentifier.value_counts()"
   ]
  },
  {
   "cell_type": "code",
   "execution_count": 7,
   "id": "7ebb2360",
   "metadata": {},
   "outputs": [],
   "source": [
    "a = [33105.0, 33111.0, 33054.0, 33108.0, 11778.0]\n",
    "\n",
    "for i in df.Census_FirmwareVersionIdentifier:\n",
    "    if i not in a:\n",
    "        b = random.choice([33105.0, 33111.0, 33054.0, 33108.0, 11778.0])        \n",
    "        df.Census_FirmwareVersionIdentifier.replace({i:b}, inplace=True)"
   ]
  },
  {
   "cell_type": "code",
   "execution_count": 8,
   "id": "51634536",
   "metadata": {},
   "outputs": [
    {
     "name": "stdout",
     "output_type": "stream",
     "text": [
      "33054.0    215506\n",
      "11778.0    207042\n",
      "33105.0    202134\n",
      "33111.0    198494\n",
      "33108.0    176824\n",
      "Name: Census_FirmwareVersionIdentifier, dtype: int64\n"
     ]
    },
    {
     "data": {
      "text/plain": [
       "0"
      ]
     },
     "execution_count": 8,
     "metadata": {},
     "output_type": "execute_result"
    }
   ],
   "source": [
    "print(df.Census_FirmwareVersionIdentifier.value_counts())\n",
    "df.Census_FirmwareVersionIdentifier.isna().sum()"
   ]
  },
  {
   "cell_type": "code",
   "execution_count": null,
   "id": "83b02836",
   "metadata": {},
   "outputs": [],
   "source": []
  },
  {
   "cell_type": "code",
   "execution_count": 9,
   "id": "45c463b6",
   "metadata": {},
   "outputs": [
    {
     "data": {
      "text/plain": [
       "1.0    941784\n",
       "0.0     54138\n",
       "Name: IsProtected, dtype: int64"
      ]
     },
     "execution_count": 9,
     "metadata": {},
     "output_type": "execute_result"
    }
   ],
   "source": [
    "df.IsProtected.value_counts()"
   ]
  },
  {
   "cell_type": "code",
   "execution_count": 10,
   "id": "3353281f",
   "metadata": {},
   "outputs": [],
   "source": [
    "a = [0.0, 1.0]\n",
    "\n",
    "for i in df.IsProtected:\n",
    "    if i not in a:\n",
    "        b = random.choice([0.0, 1.0])        \n",
    "        df.IsProtected.replace({i:b}, inplace=True)"
   ]
  },
  {
   "cell_type": "code",
   "execution_count": 11,
   "id": "8f0c983c",
   "metadata": {},
   "outputs": [
    {
     "name": "stdout",
     "output_type": "stream",
     "text": [
      "1.0    941784\n",
      "0.0     58216\n",
      "Name: IsProtected, dtype: int64\n"
     ]
    },
    {
     "data": {
      "text/plain": [
       "0"
      ]
     },
     "execution_count": 11,
     "metadata": {},
     "output_type": "execute_result"
    }
   ],
   "source": [
    "print(df.IsProtected.value_counts())\n",
    "df.IsProtected.isna().sum()"
   ]
  },
  {
   "cell_type": "code",
   "execution_count": null,
   "id": "86f458da",
   "metadata": {},
   "outputs": [],
   "source": []
  },
  {
   "cell_type": "code",
   "execution_count": 12,
   "id": "61b59824",
   "metadata": {},
   "outputs": [
    {
     "data": {
      "text/plain": [
       "0.0    939410\n",
       "1.0       426\n",
       "Name: SMode, dtype: int64"
      ]
     },
     "execution_count": 12,
     "metadata": {},
     "output_type": "execute_result"
    }
   ],
   "source": [
    "df.SMode.value_counts()"
   ]
  },
  {
   "cell_type": "code",
   "execution_count": 13,
   "id": "ac731db7",
   "metadata": {},
   "outputs": [],
   "source": [
    "a = [0.0, 1.0]\n",
    "\n",
    "for i in df.SMode:\n",
    "    if i not in a:\n",
    "        b = random.choice([0.0, 1.0])        \n",
    "        df.SMode.replace({i:b}, inplace=True)"
   ]
  },
  {
   "cell_type": "code",
   "execution_count": 14,
   "id": "42e86416",
   "metadata": {},
   "outputs": [
    {
     "name": "stdout",
     "output_type": "stream",
     "text": [
      "0.0    939410\n",
      "1.0     60590\n",
      "Name: SMode, dtype: int64\n"
     ]
    },
    {
     "data": {
      "text/plain": [
       "0"
      ]
     },
     "execution_count": 14,
     "metadata": {},
     "output_type": "execute_result"
    }
   ],
   "source": [
    "print(df.SMode.value_counts())\n",
    "df.SMode.isna().sum()"
   ]
  },
  {
   "cell_type": "code",
   "execution_count": null,
   "id": "0443c369",
   "metadata": {},
   "outputs": [],
   "source": []
  },
  {
   "cell_type": "code",
   "execution_count": 15,
   "id": "f0c01ba6",
   "metadata": {},
   "outputs": [
    {
     "data": {
      "text/plain": [
       "1.0    968544\n",
       "0.0     21308\n",
       "Name: Firewall, dtype: int64"
      ]
     },
     "execution_count": 15,
     "metadata": {},
     "output_type": "execute_result"
    }
   ],
   "source": [
    "df.Firewall.value_counts()"
   ]
  },
  {
   "cell_type": "code",
   "execution_count": 16,
   "id": "dd332dd8",
   "metadata": {},
   "outputs": [],
   "source": [
    "a = [0.0, 1.0]\n",
    "\n",
    "for i in df.Firewall:\n",
    "    if i not in a:\n",
    "        b = random.choice([0.0, 1.0])        \n",
    "        df.Firewall.replace({i:b}, inplace=True)"
   ]
  },
  {
   "cell_type": "code",
   "execution_count": 17,
   "id": "0137246a",
   "metadata": {},
   "outputs": [
    {
     "name": "stdout",
     "output_type": "stream",
     "text": [
      "1.0    968544\n",
      "0.0     31456\n",
      "Name: Firewall, dtype: int64\n"
     ]
    },
    {
     "data": {
      "text/plain": [
       "0"
      ]
     },
     "execution_count": 17,
     "metadata": {},
     "output_type": "execute_result"
    }
   ],
   "source": [
    "print(df.Firewall.value_counts())\n",
    "df.Firewall.isna().sum()"
   ]
  },
  {
   "cell_type": "code",
   "execution_count": null,
   "id": "befa2560",
   "metadata": {},
   "outputs": [],
   "source": []
  },
  {
   "cell_type": "code",
   "execution_count": 18,
   "id": "06539749",
   "metadata": {},
   "outputs": [
    {
     "data": {
      "text/plain": [
       "1.0          992652\n",
       "0.0            6112\n",
       "48.0             23\n",
       "6357062.0         3\n",
       "2.0               2\n",
       "3.0               1\n",
       "Name: UacLuaenable, dtype: int64"
      ]
     },
     "execution_count": 18,
     "metadata": {},
     "output_type": "execute_result"
    }
   ],
   "source": [
    "df.UacLuaenable.value_counts()"
   ]
  },
  {
   "cell_type": "code",
   "execution_count": 19,
   "id": "c6b71084",
   "metadata": {},
   "outputs": [],
   "source": [
    "a = [0.0, 1.0]\n",
    "\n",
    "for i in df.UacLuaenable:\n",
    "    if i not in a:\n",
    "        b = random.choice([0.0, 1.0])        \n",
    "        df.UacLuaenable.replace({i:b}, inplace=True)"
   ]
  },
  {
   "cell_type": "code",
   "execution_count": 20,
   "id": "e9d69d5a",
   "metadata": {},
   "outputs": [
    {
     "name": "stdout",
     "output_type": "stream",
     "text": [
      "1.0    992678\n",
      "0.0      7322\n",
      "Name: UacLuaenable, dtype: int64\n"
     ]
    },
    {
     "data": {
      "text/plain": [
       "0"
      ]
     },
     "execution_count": 20,
     "metadata": {},
     "output_type": "execute_result"
    }
   ],
   "source": [
    "print(df.UacLuaenable.value_counts())\n",
    "df.UacLuaenable.isna().sum()"
   ]
  },
  {
   "cell_type": "code",
   "execution_count": null,
   "id": "fafb4a29",
   "metadata": {},
   "outputs": [],
   "source": []
  },
  {
   "cell_type": "code",
   "execution_count": 21,
   "id": "dc4a7c10",
   "metadata": {},
   "outputs": [
    {
     "data": {
      "text/plain": [
       "142.0    302776\n",
       "628.0    137356\n",
       "554.0    131970\n",
       "355.0    105668\n",
       "556.0     89492\n",
       "          ...  \n",
       "761.0         1\n",
       "719.0         1\n",
       "568.0         1\n",
       "164.0         1\n",
       "681.0         1\n",
       "Name: Census_FirmwareManufacturerIdentifier, Length: 377, dtype: int64"
      ]
     },
     "execution_count": 21,
     "metadata": {},
     "output_type": "execute_result"
    }
   ],
   "source": [
    "df.Census_FirmwareManufacturerIdentifier.value_counts()"
   ]
  },
  {
   "cell_type": "code",
   "execution_count": 22,
   "id": "4e10bdbb",
   "metadata": {},
   "outputs": [],
   "source": [
    "a = [142.0, 628.0, 554.0, 355.0, 556.0]\n",
    "\n",
    "for i in df.Census_FirmwareManufacturerIdentifier:\n",
    "    if i not in a:\n",
    "        b = random.choice([142.0, 628.0, 554.0, 355.0, 556.0])        \n",
    "        df.Census_FirmwareManufacturerIdentifier.replace({i:b}, inplace=True)"
   ]
  },
  {
   "cell_type": "code",
   "execution_count": 23,
   "id": "3fba2f9f",
   "metadata": {},
   "outputs": [
    {
     "name": "stdout",
     "output_type": "stream",
     "text": [
      "142.0    325500\n",
      "355.0    196711\n",
      "628.0    193499\n",
      "554.0    158799\n",
      "556.0    125491\n",
      "Name: Census_FirmwareManufacturerIdentifier, dtype: int64\n"
     ]
    },
    {
     "data": {
      "text/plain": [
       "0"
      ]
     },
     "execution_count": 23,
     "metadata": {},
     "output_type": "execute_result"
    }
   ],
   "source": [
    "print(df.Census_FirmwareManufacturerIdentifier.value_counts())\n",
    "df.Census_FirmwareManufacturerIdentifier.isna().sum()"
   ]
  },
  {
   "cell_type": "code",
   "execution_count": null,
   "id": "c86d1dfa",
   "metadata": {},
   "outputs": [],
   "source": []
  },
  {
   "cell_type": "code",
   "execution_count": 24,
   "id": "3b9e7ed3",
   "metadata": {},
   "outputs": [
    {
     "data": {
      "text/plain": [
       "1.1.15200.1    431277\n",
       "1.1.15100.1    411957\n",
       "1.1.15000.2     29761\n",
       "1.1.14901.4     23979\n",
       "1.1.14600.4     17936\n",
       "1.1.14800.3     15121\n",
       "1.1.15300.6     13399\n",
       "1.1.14104.0     10548\n",
       "1.1.13504.0      7936\n",
       "1.1.15300.5      7671\n",
       "1.1.14700.5      5178\n",
       "1.1.14500.5      5053\n",
       "1.1.14405.2      4032\n",
       "1.1.14306.0      2744\n",
       "1.1.14202.0      1726\n",
       "1.1.14003.0      1578\n",
       "1.1.13303.0      1088\n",
       "1.1.13804.0      1058\n",
       "1.1.13903.0      1025\n",
       "1.1.13407.0       974\n",
       "1.1.13601.0       796\n",
       "1.1.12902.0       640\n",
       "1.1.14305.0       601\n",
       "1.1.13701.0       562\n",
       "1.1.13704.0       549\n",
       "1.1.13202.0       538\n",
       "1.1.13103.0       519\n",
       "1.1.13000.0       483\n",
       "1.1.12805.0       270\n",
       "1.1.15000.1       268\n",
       "1.1.14901.3       184\n",
       "1.1.14700.3       160\n",
       "1.1.14700.4       107\n",
       "1.1.14800.1       106\n",
       "1.1.14500.2        29\n",
       "1.1.14201.0        26\n",
       "1.1.14303.0        26\n",
       "1.1.14103.0        12\n",
       "1.1.11701.0        10\n",
       "1.1.14002.0         9\n",
       "1.1.14102.0         9\n",
       "1.1.13802.0         8\n",
       "1.1.13902.0         7\n",
       "1.1.12400.0         6\n",
       "1.1.12101.0         6\n",
       "1.1.14001.0         4\n",
       "1.1.12603.0         3\n",
       "1.1.13803.0         3\n",
       "1.1.12505.0         3\n",
       "1.1.9700.0          3\n",
       "1.1.13406.0         3\n",
       "1.1.12706.0         3\n",
       "1.1.11602.0         2\n",
       "1.1.12205.0         1\n",
       "1.1.11903.0         1\n",
       "1.1.11400.0         1\n",
       "1.1.12300.0         1\n",
       "Name: EngineVersion, dtype: int64"
      ]
     },
     "execution_count": 24,
     "metadata": {},
     "output_type": "execute_result"
    }
   ],
   "source": [
    "df.EngineVersion.value_counts()"
   ]
  },
  {
   "cell_type": "code",
   "execution_count": 25,
   "id": "d9af4d75",
   "metadata": {},
   "outputs": [],
   "source": [
    "a = ['1.1.15200.1', '1.1.15100.1']\n",
    "\n",
    "for i in df.EngineVersion:\n",
    "    if i not in a:\n",
    "        b = random.choice(['1.1.15200.1', '1.1.15100.1'])\n",
    "        df.EngineVersion.replace({i:b}, inplace=True)"
   ]
  },
  {
   "cell_type": "code",
   "execution_count": 26,
   "id": "471edfa2",
   "metadata": {},
   "outputs": [],
   "source": [
    "df['EngineVersion'].replace({\"1.1.15100.1\": 0, \"1.1.15200.1\": 1}, inplace=True)"
   ]
  },
  {
   "cell_type": "code",
   "execution_count": 27,
   "id": "5738b0dc",
   "metadata": {},
   "outputs": [
    {
     "name": "stdout",
     "output_type": "stream",
     "text": [
      "0    505326\n",
      "1    494674\n",
      "Name: EngineVersion, dtype: int64\n"
     ]
    },
    {
     "data": {
      "text/plain": [
       "0"
      ]
     },
     "execution_count": 27,
     "metadata": {},
     "output_type": "execute_result"
    }
   ],
   "source": [
    "print(df.EngineVersion.value_counts())\n",
    "df.EngineVersion.isna().sum()"
   ]
  },
  {
   "cell_type": "code",
   "execution_count": null,
   "id": "62b13487",
   "metadata": {},
   "outputs": [],
   "source": []
  },
  {
   "cell_type": "code",
   "execution_count": 28,
   "id": "4f2ec350",
   "metadata": {},
   "outputs": [
    {
     "data": {
      "text/plain": [
       "4.18.1807.18075     576175\n",
       "4.18.1806.18062      95569\n",
       "4.12.16299.15        40190\n",
       "4.10.209.0           30461\n",
       "4.13.17134.1         28826\n",
       "                     ...  \n",
       "4.13.17627.1000          1\n",
       "4.9.10586.1177           1\n",
       "4.12.17007.18021         1\n",
       "4.8.203.0                1\n",
       "4.15.17643.1000          1\n",
       "Name: AppVersion, Length: 98, dtype: int64"
      ]
     },
     "execution_count": 28,
     "metadata": {},
     "output_type": "execute_result"
    }
   ],
   "source": [
    "df.AppVersion.value_counts()"
   ]
  },
  {
   "cell_type": "code",
   "execution_count": 29,
   "id": "c11576a4",
   "metadata": {},
   "outputs": [],
   "source": [
    "a = ['4.18.1807.18075', '4.18.1806.18062', '4.12.16299.15', '4.10.209.0', '4.13.17134.1']\n",
    "\n",
    "for i in df.AppVersion:\n",
    "    if i not in a:\n",
    "        b = random.choice(['4.18.1807.18075', '4.18.1806.18062', '4.12.16299.15', '4.10.209.0', '4.13.17134.1'])\n",
    "        df.AppVersion.replace({i:b}, inplace=True)"
   ]
  },
  {
   "cell_type": "code",
   "execution_count": 30,
   "id": "afcbcb7f",
   "metadata": {},
   "outputs": [],
   "source": [
    "df['AppVersion'].replace({'4.18.1807.18075': 0, '4.18.1806.18062': 1, '4.12.16299.15': 2, '4.10.209.0': 3, \n",
    "                             '4.13.17134.1': 4}, inplace=True)"
   ]
  },
  {
   "cell_type": "code",
   "execution_count": 31,
   "id": "a8d21b1b",
   "metadata": {},
   "outputs": [
    {
     "name": "stdout",
     "output_type": "stream",
     "text": [
      "0    635293\n",
      "1    125661\n",
      "2    117540\n",
      "4     64995\n",
      "3     56511\n",
      "Name: AppVersion, dtype: int64\n"
     ]
    },
    {
     "data": {
      "text/plain": [
       "0"
      ]
     },
     "execution_count": 31,
     "metadata": {},
     "output_type": "execute_result"
    }
   ],
   "source": [
    "print(df.AppVersion.value_counts())\n",
    "df.AppVersion.isna().sum()"
   ]
  },
  {
   "cell_type": "code",
   "execution_count": null,
   "id": "cea53c68",
   "metadata": {},
   "outputs": [],
   "source": []
  },
  {
   "cell_type": "code",
   "execution_count": 32,
   "id": "54e0f0b2",
   "metadata": {},
   "outputs": [
    {
     "data": {
      "text/plain": [
       "windows10      966214\n",
       "windows8        21766\n",
       "windows7        10490\n",
       "windows2016      1530\n",
       "Name: Platform, dtype: int64"
      ]
     },
     "execution_count": 32,
     "metadata": {},
     "output_type": "execute_result"
    }
   ],
   "source": [
    "df.Platform.value_counts()"
   ]
  },
  {
   "cell_type": "code",
   "execution_count": 33,
   "id": "cedbc2be",
   "metadata": {},
   "outputs": [],
   "source": [
    "df['Platform'].replace({'windows10': 0, 'windows8': 1, 'windows7': 2, 'windows2016': 3}, inplace=True)"
   ]
  },
  {
   "cell_type": "code",
   "execution_count": 34,
   "id": "0fbf388e",
   "metadata": {},
   "outputs": [
    {
     "name": "stdout",
     "output_type": "stream",
     "text": [
      "0    966214\n",
      "1     21766\n",
      "2     10490\n",
      "3      1530\n",
      "Name: Platform, dtype: int64\n"
     ]
    },
    {
     "data": {
      "text/plain": [
       "0"
      ]
     },
     "execution_count": 34,
     "metadata": {},
     "output_type": "execute_result"
    }
   ],
   "source": [
    "print(df.Platform.value_counts())\n",
    "df.Platform.isna().sum()"
   ]
  },
  {
   "cell_type": "code",
   "execution_count": null,
   "id": "19394848",
   "metadata": {},
   "outputs": [],
   "source": []
  },
  {
   "cell_type": "code",
   "execution_count": 35,
   "id": "818a8143",
   "metadata": {},
   "outputs": [
    {
     "data": {
      "text/plain": [
       "x64      908529\n",
       "x86       91428\n",
       "arm64        43\n",
       "Name: Processor, dtype: int64"
      ]
     },
     "execution_count": 35,
     "metadata": {},
     "output_type": "execute_result"
    }
   ],
   "source": [
    "df.Processor.value_counts()"
   ]
  },
  {
   "cell_type": "code",
   "execution_count": 36,
   "id": "66b3a5c6",
   "metadata": {},
   "outputs": [],
   "source": [
    "df['Processor'].replace({'x64': 0, 'x86': 1, 'arm64': 2}, inplace=True)"
   ]
  },
  {
   "cell_type": "code",
   "execution_count": 37,
   "id": "c789e7dc",
   "metadata": {},
   "outputs": [
    {
     "name": "stdout",
     "output_type": "stream",
     "text": [
      "0    908529\n",
      "1     91428\n",
      "2        43\n",
      "Name: Processor, dtype: int64\n"
     ]
    },
    {
     "data": {
      "text/plain": [
       "0"
      ]
     },
     "execution_count": 37,
     "metadata": {},
     "output_type": "execute_result"
    }
   ],
   "source": [
    "print(df.Processor.value_counts())\n",
    "df.Processor.isna().sum()"
   ]
  },
  {
   "cell_type": "code",
   "execution_count": null,
   "id": "599344c1",
   "metadata": {},
   "outputs": [],
   "source": []
  },
  {
   "cell_type": "code",
   "execution_count": 38,
   "id": "4ad1ed18",
   "metadata": {},
   "outputs": [
    {
     "data": {
      "text/plain": [
       "10.0.0.0      967679\n",
       "6.3.0.0        21761\n",
       "6.1.1.0        10429\n",
       "6.1.0.0           59\n",
       "10.0.3.0          21\n",
       "10.0.1.0          18\n",
       "10.0.5.0           5\n",
       "10.0.2.0           4\n",
       "10.0.5.18          4\n",
       "6.3.3.0            3\n",
       "10.0.32.72         2\n",
       "10.0.8.0           2\n",
       "6.3.1.0            2\n",
       "10.0.7.0           2\n",
       "10.0.21.0          1\n",
       "10.0.0.2           1\n",
       "10.0.0.22          1\n",
       "10.0.19.80         1\n",
       "6.1.3.0            1\n",
       "10.0.6.0           1\n",
       "10.0.16.0          1\n",
       "6.1.4.0            1\n",
       "10.0.1.44          1\n",
       "Name: OsVer, dtype: int64"
      ]
     },
     "execution_count": 38,
     "metadata": {},
     "output_type": "execute_result"
    }
   ],
   "source": [
    "df.OsVer.value_counts()"
   ]
  },
  {
   "cell_type": "code",
   "execution_count": 39,
   "id": "181403b3",
   "metadata": {},
   "outputs": [],
   "source": [
    "a = ['10.0.0.0', '6.3.0.0', '6.1.1.0']\n",
    "\n",
    "for i in df.OsVer:\n",
    "    if i not in a:\n",
    "        b = random.choice(['10.0.0.0', '6.3.0.0', '6.1.1.0'])\n",
    "        df.OsVer.replace({i:b}, inplace=True)"
   ]
  },
  {
   "cell_type": "code",
   "execution_count": 40,
   "id": "0a845434",
   "metadata": {},
   "outputs": [],
   "source": [
    "df['OsVer'].replace({'10.0.0.0': 0, '6.3.0.0': 1, '6.1.1.0': 2}, inplace=True)"
   ]
  },
  {
   "cell_type": "code",
   "execution_count": 41,
   "id": "380c5e26",
   "metadata": {},
   "outputs": [
    {
     "name": "stdout",
     "output_type": "stream",
     "text": [
      "0    967691\n",
      "1     21855\n",
      "2     10454\n",
      "Name: OsVer, dtype: int64\n"
     ]
    },
    {
     "data": {
      "text/plain": [
       "0"
      ]
     },
     "execution_count": 41,
     "metadata": {},
     "output_type": "execute_result"
    }
   ],
   "source": [
    "print(df.OsVer.value_counts())\n",
    "df.OsVer.isna().sum()"
   ]
  },
  {
   "cell_type": "code",
   "execution_count": null,
   "id": "000d6ae8",
   "metadata": {},
   "outputs": [],
   "source": []
  },
  {
   "cell_type": "code",
   "execution_count": 42,
   "id": "01341c3c",
   "metadata": {},
   "outputs": [
    {
     "data": {
      "text/plain": [
       "rs4           439353\n",
       "rs3           280440\n",
       "rs2            86919\n",
       "rs1            81934\n",
       "th2            46451\n",
       "th1            30297\n",
       "windows8.1     21766\n",
       "windows7       10490\n",
       "prers5          2350\n",
       "Name: OsPlatformSubRelease, dtype: int64"
      ]
     },
     "execution_count": 42,
     "metadata": {},
     "output_type": "execute_result"
    }
   ],
   "source": [
    "df.OsPlatformSubRelease.value_counts()"
   ]
  },
  {
   "cell_type": "code",
   "execution_count": 43,
   "id": "190082c4",
   "metadata": {},
   "outputs": [],
   "source": [
    "df['OsPlatformSubRelease'].replace({'rs4': 0, 'rs3': 1, 'rs2': 2, 'rs1': 3, 'th2': 4, 'th1': 5,\n",
    "                                   'windows8.1': 6, 'windows7': 7, 'prers5': 8}, inplace=True)"
   ]
  },
  {
   "cell_type": "code",
   "execution_count": 44,
   "id": "8d30f5b9",
   "metadata": {},
   "outputs": [
    {
     "name": "stdout",
     "output_type": "stream",
     "text": [
      "0    439353\n",
      "1    280440\n",
      "2     86919\n",
      "3     81934\n",
      "4     46451\n",
      "5     30297\n",
      "6     21766\n",
      "7     10490\n",
      "8      2350\n",
      "Name: OsPlatformSubRelease, dtype: int64\n"
     ]
    },
    {
     "data": {
      "text/plain": [
       "0"
      ]
     },
     "execution_count": 44,
     "metadata": {},
     "output_type": "execute_result"
    }
   ],
   "source": [
    "print(df.OsPlatformSubRelease.value_counts())\n",
    "df.OsPlatformSubRelease.isna().sum()"
   ]
  },
  {
   "cell_type": "code",
   "execution_count": null,
   "id": "efa407ed",
   "metadata": {},
   "outputs": [],
   "source": []
  },
  {
   "cell_type": "code",
   "execution_count": 45,
   "id": "f22283ec",
   "metadata": {},
   "outputs": [
    {
     "data": {
      "text/plain": [
       "Home               618341\n",
       "Pro                361252\n",
       "Invalid              8715\n",
       "Education            4513\n",
       "Enterprise           3836\n",
       "Enterprise LTSB      2334\n",
       "Cloud                 621\n",
       "Server                388\n",
       "Name: SkuEdition, dtype: int64"
      ]
     },
     "execution_count": 45,
     "metadata": {},
     "output_type": "execute_result"
    }
   ],
   "source": [
    "df.SkuEdition.value_counts()"
   ]
  },
  {
   "cell_type": "code",
   "execution_count": 46,
   "id": "55124598",
   "metadata": {},
   "outputs": [],
   "source": [
    "df['SkuEdition'].replace({'Home': 0, 'Pro': 1, 'Invalid': 2, 'Education': 3, 'Enterprise': 4, \n",
    "                          'Enterprise LTSB': 5, 'Cloud': 6, 'Server': 7}, inplace=True)"
   ]
  },
  {
   "cell_type": "code",
   "execution_count": 47,
   "id": "c50908f3",
   "metadata": {},
   "outputs": [
    {
     "name": "stdout",
     "output_type": "stream",
     "text": [
      "0    618341\n",
      "1    361252\n",
      "2      8715\n",
      "3      4513\n",
      "4      3836\n",
      "5      2334\n",
      "6       621\n",
      "7       388\n",
      "Name: SkuEdition, dtype: int64\n"
     ]
    },
    {
     "data": {
      "text/plain": [
       "0"
      ]
     },
     "execution_count": 47,
     "metadata": {},
     "output_type": "execute_result"
    }
   ],
   "source": [
    "print(df.SkuEdition.value_counts())\n",
    "df.SkuEdition.isna().sum()"
   ]
  },
  {
   "cell_type": "code",
   "execution_count": null,
   "id": "cb2040de",
   "metadata": {},
   "outputs": [],
   "source": []
  },
  {
   "cell_type": "code",
   "execution_count": 48,
   "id": "5039a993",
   "metadata": {},
   "outputs": [
    {
     "data": {
      "text/plain": [
       "Windows.Desktop    998466\n",
       "Windows.Server       1533\n",
       "Windows                 1\n",
       "Name: Census_DeviceFamily, dtype: int64"
      ]
     },
     "execution_count": 48,
     "metadata": {},
     "output_type": "execute_result"
    }
   ],
   "source": [
    "df.Census_DeviceFamily.value_counts()"
   ]
  },
  {
   "cell_type": "code",
   "execution_count": 49,
   "id": "f96aaf0d",
   "metadata": {},
   "outputs": [],
   "source": [
    "df['Census_DeviceFamily'].replace({'Windows.Desktop': 0, 'Windows.Server': 1, 'Windows': 2}, inplace=True)"
   ]
  },
  {
   "cell_type": "code",
   "execution_count": 50,
   "id": "c90e02e8",
   "metadata": {},
   "outputs": [
    {
     "name": "stdout",
     "output_type": "stream",
     "text": [
      "0    998466\n",
      "1      1533\n",
      "2         1\n",
      "Name: Census_DeviceFamily, dtype: int64\n"
     ]
    },
    {
     "data": {
      "text/plain": [
       "0"
      ]
     },
     "execution_count": 50,
     "metadata": {},
     "output_type": "execute_result"
    }
   ],
   "source": [
    "print(df.Census_DeviceFamily.value_counts())\n",
    "df.Census_DeviceFamily.isna().sum()"
   ]
  },
  {
   "cell_type": "code",
   "execution_count": null,
   "id": "4771b7e9",
   "metadata": {},
   "outputs": [],
   "source": []
  },
  {
   "cell_type": "code",
   "execution_count": 51,
   "id": "d71d2cb7",
   "metadata": {},
   "outputs": [
    {
     "name": "stdout",
     "output_type": "stream",
     "text": [
      "<class 'pandas.core.frame.DataFrame'>\n",
      "RangeIndex: 1000000 entries, 0 to 999999\n",
      "Data columns (total 20 columns):\n",
      " #   Column                                 Non-Null Count    Dtype  \n",
      "---  ------                                 --------------    -----  \n",
      " 0   EngineVersion                          1000000 non-null  int64  \n",
      " 1   AppVersion                             1000000 non-null  int64  \n",
      " 2   CountryIdentifier                      1000000 non-null  int64  \n",
      " 3   LocaleEnglishNameIdentifier            1000000 non-null  int64  \n",
      " 4   Platform                               1000000 non-null  int64  \n",
      " 5   Processor                              1000000 non-null  int64  \n",
      " 6   OsVer                                  1000000 non-null  int64  \n",
      " 7   OsBuild                                1000000 non-null  int64  \n",
      " 8   OsSuite                                1000000 non-null  int64  \n",
      " 9   OsPlatformSubRelease                   1000000 non-null  int64  \n",
      " 10  SkuEdition                             1000000 non-null  int64  \n",
      " 11  IsProtected                            1000000 non-null  float64\n",
      " 12  SMode                                  1000000 non-null  float64\n",
      " 13  Firewall                               1000000 non-null  float64\n",
      " 14  UacLuaenable                           1000000 non-null  float64\n",
      " 15  Census_DeviceFamily                    1000000 non-null  int64  \n",
      " 16  Census_FirmwareManufacturerIdentifier  1000000 non-null  float64\n",
      " 17  Census_FirmwareVersionIdentifier       1000000 non-null  float64\n",
      " 18  Census_IsSecureBootEnabled             1000000 non-null  int64  \n",
      " 19  HasDetections                          1000000 non-null  int64  \n",
      "dtypes: float64(6), int64(14)\n",
      "memory usage: 152.6 MB\n"
     ]
    }
   ],
   "source": [
    "df.info()"
   ]
  },
  {
   "cell_type": "code",
   "execution_count": 52,
   "id": "eca27fbd",
   "metadata": {},
   "outputs": [
    {
     "data": {
      "text/plain": [
       "EngineVersion                            0\n",
       "AppVersion                               0\n",
       "CountryIdentifier                        0\n",
       "LocaleEnglishNameIdentifier              0\n",
       "Platform                                 0\n",
       "Processor                                0\n",
       "OsVer                                    0\n",
       "OsBuild                                  0\n",
       "OsSuite                                  0\n",
       "OsPlatformSubRelease                     0\n",
       "SkuEdition                               0\n",
       "IsProtected                              0\n",
       "SMode                                    0\n",
       "Firewall                                 0\n",
       "UacLuaenable                             0\n",
       "Census_DeviceFamily                      0\n",
       "Census_FirmwareManufacturerIdentifier    0\n",
       "Census_FirmwareVersionIdentifier         0\n",
       "Census_IsSecureBootEnabled               0\n",
       "HasDetections                            0\n",
       "dtype: int64"
      ]
     },
     "execution_count": 52,
     "metadata": {},
     "output_type": "execute_result"
    }
   ],
   "source": [
    "df.isna().sum()"
   ]
  },
  {
   "cell_type": "code",
   "execution_count": 53,
   "id": "a9e20f30",
   "metadata": {},
   "outputs": [
    {
     "data": {
      "text/plain": [
       "0         0\n",
       "1         1\n",
       "2         1\n",
       "3         1\n",
       "4         1\n",
       "         ..\n",
       "999995    1\n",
       "999996    1\n",
       "999997    0\n",
       "999998    1\n",
       "999999    0\n",
       "Name: HasDetections, Length: 1000000, dtype: int64"
      ]
     },
     "execution_count": 53,
     "metadata": {},
     "output_type": "execute_result"
    }
   ],
   "source": [
    "df.HasDetections"
   ]
  },
  {
   "cell_type": "code",
   "execution_count": 54,
   "id": "8f653166",
   "metadata": {},
   "outputs": [
    {
     "data": {
      "text/plain": [
       "1    500693\n",
       "0    499307\n",
       "Name: HasDetections, dtype: int64"
      ]
     },
     "execution_count": 54,
     "metadata": {},
     "output_type": "execute_result"
    }
   ],
   "source": [
    "df.HasDetections.value_counts()"
   ]
  },
  {
   "cell_type": "code",
   "execution_count": 55,
   "id": "d1f21ffc",
   "metadata": {},
   "outputs": [],
   "source": [
    "from imblearn import over_sampling\n",
    "from imblearn.over_sampling import RandomOverSampler \n",
    "from collections import Counter"
   ]
  },
  {
   "cell_type": "code",
   "execution_count": 56,
   "id": "5f62901f",
   "metadata": {},
   "outputs": [
    {
     "data": {
      "text/plain": [
       "[(0, 499307), (1, 500693)]"
      ]
     },
     "execution_count": 56,
     "metadata": {},
     "output_type": "execute_result"
    }
   ],
   "source": [
    "sorted(Counter(df['HasDetections']).items())"
   ]
  },
  {
   "cell_type": "code",
   "execution_count": 57,
   "id": "c5ac8989",
   "metadata": {},
   "outputs": [
    {
     "data": {
      "text/plain": [
       "1    0.500693\n",
       "0    0.499307\n",
       "Name: HasDetections, dtype: float64"
      ]
     },
     "execution_count": 57,
     "metadata": {},
     "output_type": "execute_result"
    }
   ],
   "source": [
    "df.HasDetections.value_counts(normalize=True)"
   ]
  },
  {
   "cell_type": "code",
   "execution_count": 58,
   "id": "228ed0e1",
   "metadata": {},
   "outputs": [
    {
     "data": {
      "text/plain": [
       "1    500693\n",
       "0    499307\n",
       "Name: HasDetections, dtype: int64"
      ]
     },
     "execution_count": 58,
     "metadata": {},
     "output_type": "execute_result"
    },
    {
     "data": {
      "image/png": "[encoded data removed]",
      "text/plain": [
       "<Figure size 432x288 with 1 Axes>"
      ]
     },
     "metadata": {
      "needs_background": "light"
     },
     "output_type": "display_data"
    }
   ],
   "source": [
    "pd.value_counts(df['HasDetections']).plot.bar()\n",
    "plt.title(\"HasDetections's histogram\")\n",
    "plt.xlabel('HasDetections')\n",
    "plt.ylabel('Frequency')\n",
    "df['HasDetections'].value_counts()"
   ]
  },
  {
   "cell_type": "code",
   "execution_count": 59,
   "id": "8184e555",
   "metadata": {},
   "outputs": [],
   "source": [
    "X = df\n",
    "Y = df[['HasDetections']]\n",
    "X = X.drop(['HasDetections'], axis=1)"
   ]
  },
  {
   "cell_type": "code",
   "execution_count": 60,
   "id": "ff2841cf",
   "metadata": {},
   "outputs": [
    {
     "data": {
      "text/plain": [
       "HasDetections\n",
       "1                500693\n",
       "0                499307\n",
       "dtype: int64"
      ]
     },
     "execution_count": 60,
     "metadata": {},
     "output_type": "execute_result"
    }
   ],
   "source": [
    "Y.value_counts()"
   ]
  },
  {
   "cell_type": "code",
   "execution_count": 61,
   "id": "50bced69",
   "metadata": {},
   "outputs": [
    {
     "data": {
      "text/plain": [
       "((1000000, 19), (1000000, 1))"
      ]
     },
     "execution_count": 61,
     "metadata": {},
     "output_type": "execute_result"
    }
   ],
   "source": [
    "X.shape, Y.shape"
   ]
  },
  {
   "cell_type": "code",
   "execution_count": 62,
   "id": "ebf577b7",
   "metadata": {},
   "outputs": [],
   "source": [
    "ros = RandomOverSampler(random_state=5)\n",
    "X_resample, Y_resample = ros.fit_resample(X, Y)"
   ]
  },
  {
   "cell_type": "code",
   "execution_count": 63,
   "id": "3a11762b",
   "metadata": {},
   "outputs": [
    {
     "data": {
      "text/html": [
       "<div>\n",
       "<style scoped>\n",
       "    .dataframe tbody tr th:only-of-type {\n",
       "        vertical-align: middle;\n",
       "    }\n",
       "\n",
       "    .dataframe tbody tr th {\n",
       "        vertical-align: top;\n",
       "    }\n",
       "\n",
       "    .dataframe thead th {\n",
       "        text-align: right;\n",
       "    }\n",
       "</style>\n",
       "<table border=\"1\" class=\"dataframe\">\n",
       "  <thead>\n",
       "    <tr style=\"text-align: right;\">\n",
       "      <th></th>\n",
       "      <th>EngineVersion</th>\n",
       "      <th>AppVersion</th>\n",
       "      <th>CountryIdentifier</th>\n",
       "      <th>LocaleEnglishNameIdentifier</th>\n",
       "      <th>Platform</th>\n",
       "      <th>Processor</th>\n",
       "      <th>OsVer</th>\n",
       "      <th>OsBuild</th>\n",
       "      <th>OsSuite</th>\n",
       "      <th>OsPlatformSubRelease</th>\n",
       "      <th>SkuEdition</th>\n",
       "      <th>IsProtected</th>\n",
       "      <th>SMode</th>\n",
       "      <th>Firewall</th>\n",
       "      <th>UacLuaenable</th>\n",
       "      <th>Census_DeviceFamily</th>\n",
       "      <th>Census_FirmwareManufacturerIdentifier</th>\n",
       "      <th>Census_FirmwareVersionIdentifier</th>\n",
       "      <th>Census_IsSecureBootEnabled</th>\n",
       "    </tr>\n",
       "  </thead>\n",
       "  <tbody>\n",
       "    <tr>\n",
       "      <th>0</th>\n",
       "      <td>0</td>\n",
       "      <td>3</td>\n",
       "      <td>97</td>\n",
       "      <td>124</td>\n",
       "      <td>2</td>\n",
       "      <td>1</td>\n",
       "      <td>2</td>\n",
       "      <td>7601</td>\n",
       "      <td>768</td>\n",
       "      <td>7</td>\n",
       "      <td>2</td>\n",
       "      <td>1.0</td>\n",
       "      <td>0.0</td>\n",
       "      <td>0.0</td>\n",
       "      <td>1.0</td>\n",
       "      <td>0</td>\n",
       "      <td>142.0</td>\n",
       "      <td>33054.0</td>\n",
       "      <td>0</td>\n",
       "    </tr>\n",
       "    <tr>\n",
       "      <th>1</th>\n",
       "      <td>1</td>\n",
       "      <td>0</td>\n",
       "      <td>149</td>\n",
       "      <td>56</td>\n",
       "      <td>0</td>\n",
       "      <td>0</td>\n",
       "      <td>0</td>\n",
       "      <td>17134</td>\n",
       "      <td>768</td>\n",
       "      <td>0</td>\n",
       "      <td>0</td>\n",
       "      <td>1.0</td>\n",
       "      <td>0.0</td>\n",
       "      <td>1.0</td>\n",
       "      <td>1.0</td>\n",
       "      <td>0</td>\n",
       "      <td>628.0</td>\n",
       "      <td>11778.0</td>\n",
       "      <td>0</td>\n",
       "    </tr>\n",
       "    <tr>\n",
       "      <th>2</th>\n",
       "      <td>1</td>\n",
       "      <td>0</td>\n",
       "      <td>51</td>\n",
       "      <td>103</td>\n",
       "      <td>0</td>\n",
       "      <td>0</td>\n",
       "      <td>0</td>\n",
       "      <td>17134</td>\n",
       "      <td>768</td>\n",
       "      <td>0</td>\n",
       "      <td>0</td>\n",
       "      <td>1.0</td>\n",
       "      <td>0.0</td>\n",
       "      <td>1.0</td>\n",
       "      <td>1.0</td>\n",
       "      <td>0</td>\n",
       "      <td>628.0</td>\n",
       "      <td>33105.0</td>\n",
       "      <td>0</td>\n",
       "    </tr>\n",
       "    <tr>\n",
       "      <th>3</th>\n",
       "      <td>1</td>\n",
       "      <td>0</td>\n",
       "      <td>41</td>\n",
       "      <td>217</td>\n",
       "      <td>0</td>\n",
       "      <td>0</td>\n",
       "      <td>0</td>\n",
       "      <td>17134</td>\n",
       "      <td>256</td>\n",
       "      <td>0</td>\n",
       "      <td>1</td>\n",
       "      <td>1.0</td>\n",
       "      <td>0.0</td>\n",
       "      <td>1.0</td>\n",
       "      <td>1.0</td>\n",
       "      <td>0</td>\n",
       "      <td>554.0</td>\n",
       "      <td>33111.0</td>\n",
       "      <td>0</td>\n",
       "    </tr>\n",
       "    <tr>\n",
       "      <th>4</th>\n",
       "      <td>1</td>\n",
       "      <td>0</td>\n",
       "      <td>122</td>\n",
       "      <td>88</td>\n",
       "      <td>0</td>\n",
       "      <td>0</td>\n",
       "      <td>0</td>\n",
       "      <td>16299</td>\n",
       "      <td>256</td>\n",
       "      <td>1</td>\n",
       "      <td>1</td>\n",
       "      <td>1.0</td>\n",
       "      <td>0.0</td>\n",
       "      <td>1.0</td>\n",
       "      <td>1.0</td>\n",
       "      <td>0</td>\n",
       "      <td>628.0</td>\n",
       "      <td>33111.0</td>\n",
       "      <td>0</td>\n",
       "    </tr>\n",
       "    <tr>\n",
       "      <th>...</th>\n",
       "      <td>...</td>\n",
       "      <td>...</td>\n",
       "      <td>...</td>\n",
       "      <td>...</td>\n",
       "      <td>...</td>\n",
       "      <td>...</td>\n",
       "      <td>...</td>\n",
       "      <td>...</td>\n",
       "      <td>...</td>\n",
       "      <td>...</td>\n",
       "      <td>...</td>\n",
       "      <td>...</td>\n",
       "      <td>...</td>\n",
       "      <td>...</td>\n",
       "      <td>...</td>\n",
       "      <td>...</td>\n",
       "      <td>...</td>\n",
       "      <td>...</td>\n",
       "      <td>...</td>\n",
       "    </tr>\n",
       "    <tr>\n",
       "      <th>1001381</th>\n",
       "      <td>0</td>\n",
       "      <td>0</td>\n",
       "      <td>51</td>\n",
       "      <td>103</td>\n",
       "      <td>0</td>\n",
       "      <td>0</td>\n",
       "      <td>0</td>\n",
       "      <td>17134</td>\n",
       "      <td>256</td>\n",
       "      <td>0</td>\n",
       "      <td>1</td>\n",
       "      <td>1.0</td>\n",
       "      <td>0.0</td>\n",
       "      <td>1.0</td>\n",
       "      <td>1.0</td>\n",
       "      <td>0</td>\n",
       "      <td>355.0</td>\n",
       "      <td>33111.0</td>\n",
       "      <td>0</td>\n",
       "    </tr>\n",
       "    <tr>\n",
       "      <th>1001382</th>\n",
       "      <td>0</td>\n",
       "      <td>4</td>\n",
       "      <td>142</td>\n",
       "      <td>68</td>\n",
       "      <td>0</td>\n",
       "      <td>0</td>\n",
       "      <td>0</td>\n",
       "      <td>17134</td>\n",
       "      <td>768</td>\n",
       "      <td>0</td>\n",
       "      <td>0</td>\n",
       "      <td>1.0</td>\n",
       "      <td>0.0</td>\n",
       "      <td>1.0</td>\n",
       "      <td>1.0</td>\n",
       "      <td>0</td>\n",
       "      <td>554.0</td>\n",
       "      <td>11778.0</td>\n",
       "      <td>1</td>\n",
       "    </tr>\n",
       "    <tr>\n",
       "      <th>1001383</th>\n",
       "      <td>1</td>\n",
       "      <td>0</td>\n",
       "      <td>58</td>\n",
       "      <td>75</td>\n",
       "      <td>0</td>\n",
       "      <td>0</td>\n",
       "      <td>0</td>\n",
       "      <td>17134</td>\n",
       "      <td>256</td>\n",
       "      <td>0</td>\n",
       "      <td>1</td>\n",
       "      <td>1.0</td>\n",
       "      <td>0.0</td>\n",
       "      <td>1.0</td>\n",
       "      <td>1.0</td>\n",
       "      <td>0</td>\n",
       "      <td>355.0</td>\n",
       "      <td>33108.0</td>\n",
       "      <td>0</td>\n",
       "    </tr>\n",
       "    <tr>\n",
       "      <th>1001384</th>\n",
       "      <td>1</td>\n",
       "      <td>0</td>\n",
       "      <td>66</td>\n",
       "      <td>88</td>\n",
       "      <td>0</td>\n",
       "      <td>0</td>\n",
       "      <td>0</td>\n",
       "      <td>16299</td>\n",
       "      <td>768</td>\n",
       "      <td>1</td>\n",
       "      <td>0</td>\n",
       "      <td>1.0</td>\n",
       "      <td>0.0</td>\n",
       "      <td>1.0</td>\n",
       "      <td>1.0</td>\n",
       "      <td>0</td>\n",
       "      <td>142.0</td>\n",
       "      <td>33108.0</td>\n",
       "      <td>1</td>\n",
       "    </tr>\n",
       "    <tr>\n",
       "      <th>1001385</th>\n",
       "      <td>0</td>\n",
       "      <td>1</td>\n",
       "      <td>141</td>\n",
       "      <td>227</td>\n",
       "      <td>0</td>\n",
       "      <td>0</td>\n",
       "      <td>0</td>\n",
       "      <td>16299</td>\n",
       "      <td>768</td>\n",
       "      <td>1</td>\n",
       "      <td>0</td>\n",
       "      <td>1.0</td>\n",
       "      <td>0.0</td>\n",
       "      <td>1.0</td>\n",
       "      <td>1.0</td>\n",
       "      <td>0</td>\n",
       "      <td>355.0</td>\n",
       "      <td>33054.0</td>\n",
       "      <td>1</td>\n",
       "    </tr>\n",
       "  </tbody>\n",
       "</table>\n",
       "<p>1001386 rows × 19 columns</p>\n",
       "</div>"
      ],
      "text/plain": [
       "         EngineVersion  AppVersion  CountryIdentifier  \\\n",
       "0                    0           3                 97   \n",
       "1                    1           0                149   \n",
       "2                    1           0                 51   \n",
       "3                    1           0                 41   \n",
       "4                    1           0                122   \n",
       "...                ...         ...                ...   \n",
       "1001381              0           0                 51   \n",
       "1001382              0           4                142   \n",
       "1001383              1           0                 58   \n",
       "1001384              1           0                 66   \n",
       "1001385              0           1                141   \n",
       "\n",
       "         LocaleEnglishNameIdentifier  Platform  Processor  OsVer  OsBuild  \\\n",
       "0                                124         2          1      2     7601   \n",
       "1                                 56         0          0      0    17134   \n",
       "2                                103         0          0      0    17134   \n",
       "3                                217         0          0      0    17134   \n",
       "4                                 88         0          0      0    16299   \n",
       "...                              ...       ...        ...    ...      ...   \n",
       "1001381                          103         0          0      0    17134   \n",
       "1001382                           68         0          0      0    17134   \n",
       "1001383                           75         0          0      0    17134   \n",
       "1001384                           88         0          0      0    16299   \n",
       "1001385                          227         0          0      0    16299   \n",
       "\n",
       "         OsSuite  OsPlatformSubRelease  SkuEdition  IsProtected  SMode  \\\n",
       "0            768                     7           2          1.0    0.0   \n",
       "1            768                     0           0          1.0    0.0   \n",
       "2            768                     0           0          1.0    0.0   \n",
       "3            256                     0           1          1.0    0.0   \n",
       "4            256                     1           1          1.0    0.0   \n",
       "...          ...                   ...         ...          ...    ...   \n",
       "1001381      256                     0           1          1.0    0.0   \n",
       "1001382      768                     0           0          1.0    0.0   \n",
       "1001383      256                     0           1          1.0    0.0   \n",
       "1001384      768                     1           0          1.0    0.0   \n",
       "1001385      768                     1           0          1.0    0.0   \n",
       "\n",
       "         Firewall  UacLuaenable  Census_DeviceFamily  \\\n",
       "0             0.0           1.0                    0   \n",
       "1             1.0           1.0                    0   \n",
       "2             1.0           1.0                    0   \n",
       "3             1.0           1.0                    0   \n",
       "4             1.0           1.0                    0   \n",
       "...           ...           ...                  ...   \n",
       "1001381       1.0           1.0                    0   \n",
       "1001382       1.0           1.0                    0   \n",
       "1001383       1.0           1.0                    0   \n",
       "1001384       1.0           1.0                    0   \n",
       "1001385       1.0           1.0                    0   \n",
       "\n",
       "         Census_FirmwareManufacturerIdentifier  \\\n",
       "0                                        142.0   \n",
       "1                                        628.0   \n",
       "2                                        628.0   \n",
       "3                                        554.0   \n",
       "4                                        628.0   \n",
       "...                                        ...   \n",
       "1001381                                  355.0   \n",
       "1001382                                  554.0   \n",
       "1001383                                  355.0   \n",
       "1001384                                  142.0   \n",
       "1001385                                  355.0   \n",
       "\n",
       "         Census_FirmwareVersionIdentifier  Census_IsSecureBootEnabled  \n",
       "0                                 33054.0                           0  \n",
       "1                                 11778.0                           0  \n",
       "2                                 33105.0                           0  \n",
       "3                                 33111.0                           0  \n",
       "4                                 33111.0                           0  \n",
       "...                                   ...                         ...  \n",
       "1001381                           33111.0                           0  \n",
       "1001382                           11778.0                           1  \n",
       "1001383                           33108.0                           0  \n",
       "1001384                           33108.0                           1  \n",
       "1001385                           33054.0                           1  \n",
       "\n",
       "[1001386 rows x 19 columns]"
      ]
     },
     "execution_count": 63,
     "metadata": {},
     "output_type": "execute_result"
    }
   ],
   "source": [
    "X_resample"
   ]
  },
  {
   "cell_type": "code",
   "execution_count": 64,
   "id": "d961aba9",
   "metadata": {},
   "outputs": [
    {
     "data": {
      "text/plain": [
       "HasDetections\n",
       "0                500693\n",
       "1                500693\n",
       "dtype: int64"
      ]
     },
     "execution_count": 64,
     "metadata": {},
     "output_type": "execute_result"
    }
   ],
   "source": [
    "Y_resample.value_counts()"
   ]
  },
  {
   "cell_type": "code",
   "execution_count": 65,
   "id": "75a5301c",
   "metadata": {},
   "outputs": [
    {
     "data": {
      "text/plain": [
       "((1001386, 19), (1001386, 1))"
      ]
     },
     "execution_count": 65,
     "metadata": {},
     "output_type": "execute_result"
    }
   ],
   "source": [
    "X_resample.shape, Y_resample.shape"
   ]
  },
  {
   "cell_type": "code",
   "execution_count": 66,
   "id": "881c7d0f",
   "metadata": {},
   "outputs": [
    {
     "name": "stdout",
     "output_type": "stream",
     "text": [
      "<class 'pandas.core.frame.DataFrame'>\n",
      "RangeIndex: 1000000 entries, 0 to 999999\n",
      "Data columns (total 20 columns):\n",
      " #   Column                                 Non-Null Count    Dtype  \n",
      "---  ------                                 --------------    -----  \n",
      " 0   EngineVersion                          1000000 non-null  int64  \n",
      " 1   AppVersion                             1000000 non-null  int64  \n",
      " 2   CountryIdentifier                      1000000 non-null  int64  \n",
      " 3   LocaleEnglishNameIdentifier            1000000 non-null  int64  \n",
      " 4   Platform                               1000000 non-null  int64  \n",
      " 5   Processor                              1000000 non-null  int64  \n",
      " 6   OsVer                                  1000000 non-null  int64  \n",
      " 7   OsBuild                                1000000 non-null  int64  \n",
      " 8   OsSuite                                1000000 non-null  int64  \n",
      " 9   OsPlatformSubRelease                   1000000 non-null  int64  \n",
      " 10  SkuEdition                             1000000 non-null  int64  \n",
      " 11  IsProtected                            1000000 non-null  float64\n",
      " 12  SMode                                  1000000 non-null  float64\n",
      " 13  Firewall                               1000000 non-null  float64\n",
      " 14  UacLuaenable                           1000000 non-null  float64\n",
      " 15  Census_DeviceFamily                    1000000 non-null  int64  \n",
      " 16  Census_FirmwareManufacturerIdentifier  1000000 non-null  float64\n",
      " 17  Census_FirmwareVersionIdentifier       1000000 non-null  float64\n",
      " 18  Census_IsSecureBootEnabled             1000000 non-null  int64  \n",
      " 19  HasDetections                          1000000 non-null  int64  \n",
      "dtypes: float64(6), int64(14)\n",
      "memory usage: 152.6 MB\n"
     ]
    }
   ],
   "source": [
    "df.info()"
   ]
  },
  {
   "cell_type": "code",
   "execution_count": 67,
   "id": "1314eff9",
   "metadata": {},
   "outputs": [],
   "source": [
    "df.to_csv('sample_train2.csv')"
   ]
  },
  {
   "cell_type": "code",
   "execution_count": 68,
   "id": "0f5e585a",
   "metadata": {},
   "outputs": [],
   "source": [
    "# from sklearn.preprocessing import StandardScaler"
   ]
  },
  {
   "cell_type": "code",
   "execution_count": 69,
   "id": "dd508b77",
   "metadata": {},
   "outputs": [],
   "source": [
    "# scaler = StandardScaler()"
   ]
  },
  {
   "cell_type": "code",
   "execution_count": 70,
   "id": "db193703",
   "metadata": {},
   "outputs": [],
   "source": [
    "# from sklearn.model_selection import train_test_split"
   ]
  },
  {
   "cell_type": "code",
   "execution_count": 71,
   "id": "559ee015",
   "metadata": {},
   "outputs": [],
   "source": [
    "# from sklearn.metrics import roc_curve, auc, roc_auc_score\n",
    "# from sklearn.linear_model import LogisticRegression\n",
    "# from sklearn.model_selection import cross_val_score\n",
    "# from sklearn.model_selection import RepeatedStratifiedKFold\n",
    "# from numpy import mean, std"
   ]
  },
  {
   "cell_type": "code",
   "execution_count": 72,
   "id": "cf9b4f18",
   "metadata": {},
   "outputs": [],
   "source": [
    "# from sklearn.metrics import accuracy_score, confusion_matrix, classification_report"
   ]
  },
  {
   "cell_type": "code",
   "execution_count": 73,
   "id": "6f5c9af6",
   "metadata": {},
   "outputs": [],
   "source": [
    "# target_names=[0, 1]\n",
    "# target_names=list(map(str,target_names))"
   ]
  },
  {
   "cell_type": "code",
   "execution_count": 74,
   "id": "bdd0e87e",
   "metadata": {},
   "outputs": [],
   "source": [
    "# X_train_lr, X_val_test_lr, y_train_lr, y_val_test_lr = train_test_split(X_resample, Y_resample, train_size = 0.55, \n",
    "#                                                              test_size=0.45, random_state = 0)"
   ]
  },
  {
   "cell_type": "code",
   "execution_count": 75,
   "id": "b57d3904",
   "metadata": {},
   "outputs": [],
   "source": [
    "# X_val_lr, X_test_lr, y_val_lr, y_test_lr = train_test_split(X_val_test_lr, y_val_test_lr, train_size = 0.67, \n",
    "#                                                              test_size=0.33, random_state = 0)"
   ]
  },
  {
   "cell_type": "code",
   "execution_count": 76,
   "id": "e06d9e40",
   "metadata": {},
   "outputs": [],
   "source": [
    "# x_train_lr, x_test_lr, y_train_lr, y_test_lr = train_test_split(X_resample, Y_resample, train_size = 0.7,\n",
    "#                                                                 test_size=0.3, random_state=4"
   ]
  },
  {
   "cell_type": "code",
   "execution_count": 77,
   "id": "82131646",
   "metadata": {},
   "outputs": [],
   "source": [
    "# lr = LogisticRegression(multi_class='multinomial', solver='lbfgs')"
   ]
  },
  {
   "cell_type": "code",
   "execution_count": 79,
   "id": "359de1ba",
   "metadata": {},
   "outputs": [],
   "source": [
    "# lr.fit(X_resample, Y_resample)"
   ]
  },
  {
   "cell_type": "code",
   "execution_count": null,
   "id": "60fd755d",
   "metadata": {},
   "outputs": [],
   "source": [
    "# target_predictionLR = lr.predict(X_val_lr)\n",
    "# y_prob_predLR = lr.predict_proba(X_val_lr)"
   ]
  },
  {
   "cell_type": "code",
   "execution_count": null,
   "id": "0d83c93e",
   "metadata": {},
   "outputs": [],
   "source": [
    "# accuracy_score(y_val_lr, target_predictionLR)"
   ]
  },
  {
   "cell_type": "code",
   "execution_count": null,
   "id": "46dd5ce6",
   "metadata": {},
   "outputs": [],
   "source": [
    "# confusion_matrix(y_val_lr, target_predictionLR)"
   ]
  },
  {
   "cell_type": "code",
   "execution_count": null,
   "id": "48b12d8a",
   "metadata": {},
   "outputs": [],
   "source": [
    "# print(classification_report(y_val_lr, target_predictionLR, target_names=target_names))"
   ]
  },
  {
   "cell_type": "code",
   "execution_count": null,
   "id": "343efbba",
   "metadata": {},
   "outputs": [],
   "source": [
    "# cv = RepeatedStratifiedKFold(n_splits=10, n_repeats=4, random_state=1)"
   ]
  },
  {
   "cell_type": "code",
   "execution_count": null,
   "id": "6a1c6f2e",
   "metadata": {},
   "outputs": [],
   "source": [
    "# n_scoreslr = cross_val_score(lr, y_val_lr, target_predictionLR, scoring='accuracy', \n",
    "#                            cv=cv, n_jobs=-1)"
   ]
  },
  {
   "cell_type": "code",
   "execution_count": null,
   "id": "102f72f4",
   "metadata": {},
   "outputs": [],
   "source": [
    "# print('Mean Accuracy: %.3f (%.3f)' % (mean(n_scoreslr), std(n_scoreslr)))"
   ]
  },
  {
   "cell_type": "code",
   "execution_count": null,
   "id": "4b928689",
   "metadata": {},
   "outputs": [],
   "source": [
    "# # roc curve for classes\n",
    "# fpr = {}\n",
    "# tpr = {}\n",
    "# thresh ={}\n",
    "\n",
    "# n_class = 4\n",
    "\n",
    "# for i in range(n_class):    \n",
    "#     fpr[i], tpr[i], thresh[i] = roc_curve(y_val_lr, y_prob_predLR[:, i], pos_label=i)\n",
    "    \n",
    "# # plotting    \n",
    "# plt.plot(fpr[0], tpr[0], linestyle='--',color='orange', label='Class 0 vs Result')\n",
    "# plt.plot(fpr[1], tpr[1], linestyle='--',color='green', label='Class 1 vs Result')\n",
    "# plt.plot(fpr[2], tpr[2], linestyle='--',color='blue', label='Class 2 vs Result')\n",
    "# plt.plot(fpr[3], tpr[3], linestyle='--',color='yellow', label='Class 3 vs Result')\n",
    "# plt.title('Multiclass ROC curve')\n",
    "# plt.xlabel('False Positive Rate')\n",
    "# plt.ylabel('True Positive rate')\n",
    "# plt.legend(loc='best')"
   ]
  },
  {
   "cell_type": "code",
   "execution_count": null,
   "id": "9f3be3c1",
   "metadata": {},
   "outputs": [],
   "source": []
  },
  {
   "cell_type": "code",
   "execution_count": null,
   "id": "f0a31fe2",
   "metadata": {},
   "outputs": [],
   "source": []
  },
  {
   "cell_type": "code",
   "execution_count": null,
   "id": "7ca0db8b",
   "metadata": {},
   "outputs": [],
   "source": []
  }
 ],
 "metadata": {
  "kernelspec": {
   "display_name": "Python 3 (ipykernel)",
   "language": "python",
   "name": "python3"
  },
  "language_info": {
   "codemirror_mode": {
    "name": "ipython",
    "version": 3
   },
   "file_extension": ".py",
   "mimetype": "text/x-python",
   "name": "python",
   "nbconvert_exporter": "python",
   "pygments_lexer": "ipython3",
   "version": "3.9.6"
  }
 },
 "nbformat": 4,
 "nbformat_minor": 5
}
